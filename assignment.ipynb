{
 "cells": [
  {
   "cell_type": "code",
   "execution_count": 3,
   "metadata": {},
   "outputs": [
    {
     "name": "stdout",
     "output_type": "stream",
     "text": [
      "True\n"
     ]
    }
   ],
   "source": [
    "a= 11\n",
    "res = a >10\n",
    "print(res)"
   ]
  },
  {
   "cell_type": "code",
   "execution_count": 4,
   "metadata": {},
   "outputs": [
    {
     "name": "stdout",
     "output_type": "stream",
     "text": [
      "True\n"
     ]
    }
   ],
   "source": [
    "num = 21\n",
    "res = num%2==1\n",
    "print(res)"
   ]
  },
  {
   "cell_type": "code",
   "execution_count": 8,
   "metadata": {},
   "outputs": [
    {
     "name": "stdout",
     "output_type": "stream",
     "text": [
      "True\n"
     ]
    }
   ],
   "source": [
    "num = 52\n",
    "res = num%2==0 and 40<=num and num<=70\n",
    "print(res)"
   ]
  },
  {
   "cell_type": "code",
   "execution_count": 11,
   "metadata": {},
   "outputs": [
    {
     "name": "stdout",
     "output_type": "stream",
     "text": [
      "True\n"
     ]
    }
   ],
   "source": [
    "num = 100\n",
    "res = num>97 and num%2==0\n",
    "print(res)"
   ]
  },
  {
   "cell_type": "code",
   "execution_count": 15,
   "metadata": {},
   "outputs": [
    {
     "name": "stdout",
     "output_type": "stream",
     "text": [
      "True\n"
     ]
    }
   ],
   "source": [
    "num = 52\n",
    "res = num<122 and num>48 and num%4==0\n",
    "print(res)"
   ]
  },
  {
   "cell_type": "code",
   "execution_count": 17,
   "metadata": {},
   "outputs": [
    {
     "name": "stdout",
     "output_type": "stream",
     "text": [
      "True\n"
     ]
    }
   ],
   "source": [
    "num = 60\n",
    "res = num%5==0 and num%3==0\n",
    "print(res)"
   ]
  },
  {
   "cell_type": "code",
   "execution_count": 22,
   "metadata": {},
   "outputs": [
    {
     "name": "stdout",
     "output_type": "stream",
     "text": [
      "True\n"
     ]
    }
   ],
   "source": [
    "ch ='A'\n",
    "res = ch>='A' and ch <='Z'\n",
    "print(res)"
   ]
  },
  {
   "cell_type": "code",
   "execution_count": 30,
   "metadata": {},
   "outputs": [
    {
     "name": "stdout",
     "output_type": "stream",
     "text": [
      "False\n"
     ]
    }
   ],
   "source": [
    "ch ='|'\n",
    "res = ch>='a'and ch<= 'z' and ord(ch)%2==0\n",
    "print(res)"
   ]
  },
  {
   "cell_type": "code",
   "execution_count": 33,
   "metadata": {},
   "outputs": [
    {
     "name": "stdout",
     "output_type": "stream",
     "text": [
      "True\n"
     ]
    }
   ],
   "source": [
    "num = 158\n",
    "lastd = num%10\n",
    "res = lastd%4==0\n",
    "print(res)"
   ]
  },
  {
   "cell_type": "code",
   "execution_count": 52,
   "metadata": {},
   "outputs": [
    {
     "name": "stdout",
     "output_type": "stream",
     "text": [
      "True\n"
     ]
    }
   ],
   "source": [
    "num = 0\n",
    "res = num>=0\n",
    "print(res)"
   ]
  },
  {
   "cell_type": "code",
   "execution_count": 48,
   "metadata": {},
   "outputs": [
    {
     "name": "stdout",
     "output_type": "stream",
     "text": [
      "True\n"
     ]
    }
   ],
   "source": [
    "num = 108\n",
    "lastdigi = num%10\n",
    "num2 = num>=60 and num<=130\n",
    "num3 = num%3==0 and num%4==0\n",
    "res =num2 and num3 and lastdigi>6\n",
    "print(res)"
   ]
  },
  {
   "cell_type": "code",
   "execution_count": 51,
   "metadata": {},
   "outputs": [
    {
     "name": "stdout",
     "output_type": "stream",
     "text": [
      "False\n"
     ]
    }
   ],
   "source": [
    "ch ='a'\n",
    "res = ch>='0' and ch <='9'\n",
    "print(res)"
   ]
  },
  {
   "cell_type": "code",
   "execution_count": 3,
   "metadata": {},
   "outputs": [],
   "source": [
    "num=12\n",
    "if num%5==0:\n",
    "    print(\"number is multiplied by 5\")"
   ]
  },
  {
   "cell_type": "code",
   "execution_count": 5,
   "metadata": {},
   "outputs": [
    {
     "name": "stdout",
     "output_type": "stream",
     "text": [
      "0\n"
     ]
    }
   ],
   "source": [
    "num=0\n",
    "if num == 0:\n",
    "    print(num)"
   ]
  },
  {
   "cell_type": "code",
   "execution_count": 8,
   "metadata": {},
   "outputs": [
    {
     "name": "stdout",
     "output_type": "stream",
     "text": [
      "negative\n"
     ]
    }
   ],
   "source": [
    "num=-1\n",
    "if num<0:\n",
    "    print(\"negative\")"
   ]
  },
  {
   "cell_type": "code",
   "execution_count": 13,
   "metadata": {},
   "outputs": [
    {
     "name": "stdout",
     "output_type": "stream",
     "text": [
      "[6]\n",
      "<class 'list'>\n"
     ]
    }
   ],
   "source": [
    "num=6\n",
    "if num%2==0:\n",
    "    list=[num]\n",
    "    print(list)\n",
    "    print(type(list))\n"
   ]
  },
  {
   "cell_type": "code",
   "execution_count": 16,
   "metadata": {},
   "outputs": [
    {
     "name": "stdout",
     "output_type": "stream",
     "text": [
      "(7,)\n",
      "<class 'tuple'>\n"
     ]
    }
   ],
   "source": [
    "num =7\n",
    "if num%2==1:\n",
    "    tuple=(num,)\n",
    "    print(tuple)\n",
    "    print(type(tuple))"
   ]
  },
  {
   "cell_type": "code",
   "execution_count": 6,
   "metadata": {},
   "outputs": [],
   "source": [
    "num =\"25\"\n",
    "data =[int,float,bool]\n",
    "num1 = type(num)\n",
    "if num1 in data:\n",
    "    print(type(num))\n",
    "\n",
    "\n"
   ]
  },
  {
   "cell_type": "code",
   "execution_count": 17,
   "metadata": {},
   "outputs": [
    {
     "name": "stdout",
     "output_type": "stream",
     "text": [
      "{'hrllo'}\n",
      "<class 'set'>\n"
     ]
    }
   ],
   "source": [
    "n=\"hrllo\"\n",
    "data =[int,float,bool,complex,tuple,str]\n",
    "if type(n) in data:\n",
    "    tp ={n}\n",
    "    print(tp)\n",
    "    print(type(tp))"
   ]
  },
  {
   "cell_type": "code",
   "execution_count": 30,
   "metadata": {},
   "outputs": [
    {
     "name": "stdout",
     "output_type": "stream",
     "text": [
      "3\n",
      "4\n"
     ]
    }
   ],
   "source": [
    "n =[1,2,3,4,5,6,7]\n",
    "print((len(n)//2))\n",
    "print(n[3])\n"
   ]
  },
  {
   "cell_type": "code",
   "execution_count": 32,
   "metadata": {},
   "outputs": [
    {
     "name": "stdout",
     "output_type": "stream",
     "text": [
      "hell\n"
     ]
    }
   ],
   "source": [
    "st=\"hellol\"\n",
    "if len(st)%2==0:\n",
    "    print(st[:len(st)-2])"
   ]
  },
  {
   "cell_type": "code",
   "execution_count": 34,
   "metadata": {},
   "outputs": [
    {
     "name": "stdout",
     "output_type": "stream",
     "text": [
      "hello hi\n"
     ]
    }
   ],
   "source": [
    "st1 =\"hi\"\n",
    "st2= \"hello\"\n",
    "if st1!=st2:\n",
    "   a=st1\n",
    "   st1=st2\n",
    "   st2=a\n",
    "   print(st1,st2)"
   ]
  },
  {
   "cell_type": "code",
   "execution_count": 41,
   "metadata": {},
   "outputs": [
    {
     "name": "stdout",
     "output_type": "stream",
     "text": [
      "{'{': 123}\n"
     ]
    }
   ],
   "source": [
    "ch='{'\n",
    "if not((ch>='0' and ch<='9') or (ch>='A'and ch<='Z' )or (ch>='a' and ch<='z')):\n",
    "    t=[[ch,ord(ch)]]\n",
    "    print(dict(t))"
   ]
  },
  {
   "cell_type": "code",
   "execution_count": 49,
   "metadata": {},
   "outputs": [
    {
     "name": "stdout",
     "output_type": "stream",
     "text": [
      "{1: 20, 2: 30, 3: 40, 5: 100}\n"
     ]
    }
   ],
   "source": [
    "dict={1:20,2:30,3:40}\n",
    "key=5\n",
    "if key not in dict:\n",
    "    dict[key] =100\n",
    "    print(dict)"
   ]
  },
  {
   "cell_type": "code",
   "execution_count": 50,
   "metadata": {},
   "outputs": [
    {
     "data": {
      "text/plain": [
       "'oellh'"
      ]
     },
     "execution_count": 50,
     "metadata": {},
     "output_type": "execute_result"
    }
   ],
   "source": [
    "def switch_first_and_last(string):\n",
    "    if len(string)<=1:\n",
    "        return string\n",
    "    else:\n",
    "        return string[-1]+string[1:-1]+string[0]\n",
    "switch_first_and_last(\"hello\")"
   ]
  },
  {
   "cell_type": "code",
   "execution_count": 53,
   "metadata": {},
   "outputs": [
    {
     "name": "stdout",
     "output_type": "stream",
     "text": [
      "oellh\n"
     ]
    }
   ],
   "source": [
    "st=\"hello\"\n",
    "\n",
    "print(st[-1]+st[1:-1]+st[0])"
   ]
  },
  {
   "cell_type": "code",
   "execution_count": 55,
   "metadata": {},
   "outputs": [
    {
     "name": "stdout",
     "output_type": "stream",
     "text": [
      "hello 5 hi 2\n"
     ]
    }
   ],
   "source": [
    "st1=\"hello\"\n",
    "st2=\"hi\"\n",
    "if st1!= st2:\n",
    "    print(st1,len(st1),st2,len(st2))\n"
   ]
  },
  {
   "cell_type": "code",
   "execution_count": 4,
   "metadata": {},
   "outputs": [
    {
     "name": "stdout",
     "output_type": "stream",
     "text": [
      "110.25\n"
     ]
    }
   ],
   "source": [
    "int1=10.5\n",
    "int2=10.5\n",
    "if ((int1>=0 or int1<0)or(int2>=0 or int2<0))and(int1==int2):\n",
    "    print(int1*int2)\n",
    "else:\n",
    "    print(\"not equal\")"
   ]
  },
  {
   "cell_type": "code",
   "execution_count": null,
   "metadata": {},
   "outputs": [],
   "source": []
  },
  {
   "cell_type": "code",
   "execution_count": 1,
   "metadata": {},
   "outputs": [],
   "source": [
    "num = input(\"enter the number:\")\n",
    "print(num)\n",
    "if num>10:\n",
    "    print(\"large\")\n",
    "else:\n",
    "    print(\"small\")\n"
   ]
  },
  {
   "cell_type": "code",
   "execution_count": 2,
   "metadata": {},
   "outputs": [
    {
     "name": "stdout",
     "output_type": "stream",
     "text": [
      "2\n"
     ]
    }
   ],
   "source": [
    "n=20\n",
    "diff=abs(n-21)\n",
    "\n",
    "if n > 21:\n",
    "        print(diff)\n",
    "else:\n",
    "        print(2 * diff)\n"
   ]
  },
  {
   "cell_type": "code",
   "execution_count": 8,
   "metadata": {},
   "outputs": [
    {
     "name": "stdout",
     "output_type": "stream",
     "text": [
      "11\n",
      "11\n"
     ]
    }
   ],
   "source": [
    "num =10\n",
    "if num%2==0:\n",
    "    print(num+1)\n",
    "if num%2==1:\n",
    "        print(\"odd\")\n",
    "else:\n",
    "    print(num+1)\n",
    "   "
   ]
  },
  {
   "cell_type": "code",
   "execution_count": 10,
   "metadata": {},
   "outputs": [
    {
     "name": "stdout",
     "output_type": "stream",
     "text": [
      "4\n"
     ]
    }
   ],
   "source": [
    "num = 52\n",
    "if num%2==0 and 48<=num<=57 and num not in [2,4,6,8]:\n",
    "    print(chr(num))"
   ]
  },
  {
   "cell_type": "code",
   "execution_count": 35,
   "metadata": {},
   "outputs": [
    {
     "name": "stdout",
     "output_type": "stream",
     "text": [
      "[126]\n"
     ]
    }
   ],
   "source": [
    "num=126\n",
    "list=[]\n",
    "if num<125 and 47<num<125:\n",
    "    num1=[[num,chr(num)]]\n",
    "    print(dict(num1))\n",
    "else:\n",
    "    list.append(num)\n",
    "    print(list)"
   ]
  },
  {
   "cell_type": "code",
   "execution_count": 3,
   "metadata": {},
   "outputs": [
    {
     "name": "stdout",
     "output_type": "stream",
     "text": [
      "12\n"
     ]
    }
   ],
   "source": [
    "num =int(input(\"enter the number:\"))\n",
    "if num>=0 or num<0:\n",
    "    print(num+2)"
   ]
  },
  {
   "cell_type": "code",
   "execution_count": 12,
   "metadata": {},
   "outputs": [
    {
     "name": "stdout",
     "output_type": "stream",
     "text": [
      "[30]\n",
      "<class 'list'>\n"
     ]
    }
   ],
   "source": [
    "num=30\n",
    "\n",
    "if num%3==0 and num%5==0:\n",
    "    list=[num]\n",
    "    print(list)\n",
    "    print(type(list))\n",
    "    "
   ]
  },
  {
   "cell_type": "code",
   "execution_count": 37,
   "metadata": {},
   "outputs": [
    {
     "ename": "TypeError",
     "evalue": "not all arguments converted during string formatting",
     "output_type": "error",
     "traceback": [
      "\u001b[1;31m---------------------------------------------------------------------------\u001b[0m",
      "\u001b[1;31mTypeError\u001b[0m                                 Traceback (most recent call last)",
      "Cell \u001b[1;32mIn[37], line 2\u001b[0m\n\u001b[0;32m      1\u001b[0m num\u001b[38;5;241m=\u001b[39m\u001b[38;5;124m\"\u001b[39m\u001b[38;5;124m30\u001b[39m\u001b[38;5;124m\"\u001b[39m\n\u001b[1;32m----> 2\u001b[0m \u001b[38;5;28;01mif\u001b[39;00m \u001b[43mnum\u001b[49m\u001b[38;5;241;43m%\u001b[39;49m\u001b[38;5;241;43m3\u001b[39;49m\u001b[38;5;241m==\u001b[39m\u001b[38;5;241m0\u001b[39m \u001b[38;5;129;01mand\u001b[39;00m num\u001b[38;5;241m%\u001b[39m\u001b[38;5;241m5\u001b[39m\u001b[38;5;241m==\u001b[39m\u001b[38;5;241m0\u001b[39m:\n\u001b[0;32m      3\u001b[0m     st1\u001b[38;5;241m=\u001b[39m\u001b[38;5;28mstr\u001b[39m(num)\n\u001b[0;32m      4\u001b[0m     \u001b[38;5;28mlist\u001b[39m\u001b[38;5;241m=\u001b[39m[st1]\n",
      "\u001b[1;31mTypeError\u001b[0m: not all arguments converted during string formatting"
     ]
    }
   ],
   "source": [
    "num=\"30\"\n",
    "if num%3==0 and num%5==0:\n",
    "    st1=str(num)\n",
    "    list=[st1]\n",
    "    print(list)"
   ]
  },
  {
   "cell_type": "code",
   "execution_count": 9,
   "metadata": {},
   "outputs": [
    {
     "name": "stdout",
     "output_type": "stream",
     "text": [
      "ol\n"
     ]
    }
   ],
   "source": [
    "st=\"hello\"\n",
    "if not((st[0]>='0' and st[0]<='9') or (st[0]>='A'and st[0]<='Z' )or (st[0]>='a' and st[0]<='z')):\n",
    "    mid =len(st)//2\n",
    "    print(st[mid])\n",
    "else:\n",
    "    st2=st[::-1]\n",
    "    mid = len(st2)//2\n",
    "    print(st2[:mid:])"
   ]
  },
  {
   "cell_type": "code",
   "execution_count": 12,
   "metadata": {},
   "outputs": [
    {
     "name": "stdout",
     "output_type": "stream",
     "text": [
      "e\n"
     ]
    }
   ],
   "source": [
    "st =\"15hello\"\n",
    "if (st[0]>='A'and st[0]<='Z' )or (st[0]>='a' and st[0]<='z'):\n",
    "    print(st[::-1])\n",
    "else:\n",
    "    mid =len(st)//2\n",
    "    print(st[mid])\n"
   ]
  },
  {
   "cell_type": "code",
   "execution_count": 13,
   "metadata": {},
   "outputs": [
    {
     "name": "stdout",
     "output_type": "stream",
     "text": [
      "456\n"
     ]
    }
   ],
   "source": [
    "st=\"123456\"\n",
    "if len(st)<3:\n",
    "    print(st)\n",
    "else:\n",
    "    print(st[3:])"
   ]
  },
  {
   "cell_type": "code",
   "execution_count": 22,
   "metadata": {},
   "outputs": [
    {
     "name": "stdout",
     "output_type": "stream",
     "text": [
      "l\n"
     ]
    }
   ],
   "source": [
    "st=\"hello\"\n",
    "if not((st[-1]>='0' and st[-1]<='9') or (st[-1]>='A'and st[-1]<='Z' )or (st[-1]>='a' and st[-1]<='z')):\n",
    "    print(st[-2::-1])\n",
    "else:\n",
    "    if len(st)%2==1:\n",
    "        mid=len(st)//2\n",
    "        print(st[mid])\n"
   ]
  },
  {
   "cell_type": "code",
   "execution_count": 25,
   "metadata": {},
   "outputs": [
    {
     "name": "stdout",
     "output_type": "stream",
     "text": [
      "hellhiiowow\n"
     ]
    }
   ],
   "source": [
    "st=\"hellowow\"\n",
    "if type(st)==str and len(st)>7:\n",
    "    mid =len(st)//2\n",
    "    print(st[0:mid]+\"hii\"+st[mid:])\n",
    "else:\n",
    "    print(st*3)"
   ]
  },
  {
   "cell_type": "code",
   "execution_count": 1,
   "metadata": {},
   "outputs": [
    {
     "name": "stdout",
     "output_type": "stream",
     "text": [
      "\u0004\n"
     ]
    }
   ],
   "source": [
    "num=4\n",
    "if 1<num<5:\n",
    "    print(chr(num))\n"
   ]
  },
  {
   "cell_type": "code",
   "execution_count": 8,
   "metadata": {},
   "outputs": [
    {
     "name": "stdout",
     "output_type": "stream",
     "text": [
      "more than three digits\n"
     ]
    }
   ],
   "source": [
    "num=1000\n",
    "if num<10:\n",
    "    print(num,\"one digit\")\n",
    "elif num<100:\n",
    "    print(num,\"two digit\")\n",
    "elif num<1000:\n",
    "    print(num,\"three digit\")\n",
    "else:\n",
    "    print(\"more than three digits\")\n"
   ]
  },
  {
   "cell_type": "code",
   "execution_count": 11,
   "metadata": {},
   "outputs": [
    {
     "name": "stdout",
     "output_type": "stream",
     "text": [
      "6\n"
     ]
    }
   ],
   "source": [
    "list =[2,2,3,4,5,6]\n",
    "first =list[0]\n",
    "mid =len(list)//2\n",
    "if first%2==0 and list[mid]%2==0:\n",
    "    print(first+list[mid])\n",
    "else:\n",
    "    print(first-list[mid])"
   ]
  },
  {
   "cell_type": "code",
   "execution_count": 18,
   "metadata": {},
   "outputs": [
    {
     "name": "stdout",
     "output_type": "stream",
     "text": [
      "[1.0, 2, 3, 4, 5, 6, 7, 8, 9, 10, 11]\n"
     ]
    }
   ],
   "source": [
    "list1=[1.0,2,3,4,5,6]\n",
    "list2 =[7,8,9,10,11]\n",
    "num = int(list1[0])\n",
    "if num<=0 or num>0 and list2[0]<=0 or list2[0]>0:\n",
    "    print(list1+list2)"
   ]
  },
  {
   "cell_type": "code",
   "execution_count": 21,
   "metadata": {},
   "outputs": [
    {
     "name": "stdout",
     "output_type": "stream",
     "text": [
      "special symbol\n"
     ]
    }
   ],
   "source": [
    "ch='@'\n",
    "if 'A'<= ch<='Z':\n",
    "    print(ch.lower())\n",
    "elif 'a'<= ch<='z':\n",
    "    print(ch.upper())\n",
    "elif not('0'<=ch<='9'):\n",
    "    print(\"special symbol\")\n",
    "else:\n",
    "    ch1=ord(ch)-1\n",
    "    ch2=ord(ch)+1\n",
    "    print(chr(ch1),chr(ch),chr(ch2))"
   ]
  },
  {
   "cell_type": "code",
   "execution_count": 20,
   "metadata": {},
   "outputs": [
    {
     "name": "stdout",
     "output_type": "stream",
     "text": [
      "4\n"
     ]
    }
   ],
   "source": [
    "list =[1,2,3,\"hello\",5,6]\n",
    "mid =len(list)//2\n",
    "if type(list[mid])==str:\n",
    "    print(list)\n",
    "else:\n",
    "    print(list[mid])"
   ]
  },
  {
   "cell_type": "code",
   "execution_count": 13,
   "metadata": {},
   "outputs": [
    {
     "name": "stdout",
     "output_type": "stream",
     "text": [
      "a is big\n"
     ]
    }
   ],
   "source": [
    "a = 30\n",
    "b=20\n",
    "print(\" b is bog\") if b>a else print(\"a is big\")"
   ]
  },
  {
   "cell_type": "code",
   "execution_count": 3,
   "metadata": {},
   "outputs": [
    {
     "name": "stdout",
     "output_type": "stream",
     "text": [
      "A\n"
     ]
    }
   ],
   "source": [
    "ch=\"a\"\n",
    "print(ch.upper())"
   ]
  },
  {
   "cell_type": "code",
   "execution_count": 15,
   "metadata": {},
   "outputs": [
    {
     "name": "stdout",
     "output_type": "stream",
     "text": [
      "5.5 is not an integer\n"
     ]
    }
   ],
   "source": [
    "num = input(\"Enter a number: \")\n",
    "\n",
    "if num.isdigit():\n",
    "    num = int(num)\n",
    "    print(f\"{num} is an integer\")\n",
    "else:\n",
    "    print(f\"{num} is not an integer\")"
   ]
  },
  {
   "cell_type": "code",
   "execution_count": 16,
   "metadata": {},
   "outputs": [
    {
     "name": "stdout",
     "output_type": "stream",
     "text": [
      "10 not int\n"
     ]
    }
   ],
   "source": [
    "num=10\n",
    "if num>=0 and num<=9:\n",
    "    print(\"it is int\",num)\n",
    "else:\n",
    "    print(num,\"not int\")"
   ]
  },
  {
   "cell_type": "code",
   "execution_count": 6,
   "metadata": {},
   "outputs": [
    {
     "name": "stdout",
     "output_type": "stream",
     "text": [
      "A\n"
     ]
    }
   ],
   "source": [
    "ch = input()\n",
    "if 'A'<=ch <='Z' or 'a'<=ch<='z':\n",
    "    if 'A'<=ch <='Z':\n",
    "        data =['A','E','I','O','U']\n",
    "        if ch in data:\n",
    "            print(chr(ord(ch)+1))\n",
    "    else:\n",
    "        print(ch.upper())"
   ]
  },
  {
   "cell_type": "code",
   "execution_count": 23,
   "metadata": {},
   "outputs": [],
   "source": [
    "a =30\n",
    "match(a):\n",
    "    case 10:\n",
    "        print(\"hello world\")\n",
    "    case 20:\n",
    "        print(\"hii jack\")\n",
    "    case :\n",
    "        print(\"no index is found\")"
   ]
  },
  {
   "cell_type": "code",
   "execution_count": 5,
   "metadata": {},
   "outputs": [
    {
     "name": "stdout",
     "output_type": "stream",
     "text": [
      "A is vowel\n"
     ]
    }
   ],
   "source": [
    "ch=input()\n",
    "ch1=\"aeiouAEIOU\"\n",
    "if 'A'<=ch<='Z'or 'a'<=ch<='z':\n",
    "    if ch in ch1:\n",
    "        print(ch,\"is\",\"vowel\")\n",
    "    else:\n",
    "        print(ch,\"is\",\"consonant\")\n",
    "else:\n",
    "    print(ch,\"is\",\"not\",\"alphabet\")"
   ]
  },
  {
   "cell_type": "code",
   "execution_count": 1,
   "metadata": {},
   "outputs": [
    {
     "name": "stdout",
     "output_type": "stream",
     "text": [
      "apple\n",
      "banana\n",
      "orange\n"
     ]
    }
   ],
   "source": [
    "fruits=[\"apple\",\"banana\",\"orange\"]\n",
    "for x in fruits:\n",
    "    print(x)"
   ]
  },
  {
   "cell_type": "code",
   "execution_count": 8,
   "metadata": {},
   "outputs": [
    {
     "name": "stdout",
     "output_type": "stream",
     "text": [
      "0\n",
      "1\n",
      "2\n",
      "3\n",
      "4\n",
      "5\n",
      "6\n",
      "7\n",
      "8\n",
      "9\n"
     ]
    }
   ],
   "source": [
    "for x in range(10):\n",
    "    print(x)"
   ]
  },
  {
   "cell_type": "code",
   "execution_count": 12,
   "metadata": {},
   "outputs": [
    {
     "name": "stdout",
     "output_type": "stream",
     "text": [
      "h\n",
      "e\n",
      "l\n",
      "l\n",
      "o\n",
      " \n",
      "w\n",
      "o\n",
      "r\n",
      "l\n",
      "d\n"
     ]
    }
   ],
   "source": [
    "a=\"hello world\"\n",
    "for x in a:\n",
    "    print(x)"
   ]
  }
 ],
 "metadata": {
  "kernelspec": {
   "display_name": "Python 3",
   "language": "python",
   "name": "python3"
  },
  "language_info": {
   "codemirror_mode": {
    "name": "ipython",
    "version": 3
   },
   "file_extension": ".py",
   "mimetype": "text/x-python",
   "name": "python",
   "nbconvert_exporter": "python",
   "pygments_lexer": "ipython3",
   "version": "3.12.2"
  }
 },
 "nbformat": 4,
 "nbformat_minor": 2
}
