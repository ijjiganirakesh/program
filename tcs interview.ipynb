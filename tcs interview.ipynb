{
 "cells": [
  {
   "cell_type": "code",
   "execution_count": 1,
   "metadata": {},
   "outputs": [
    {
     "name": "stdout",
     "output_type": "stream",
     "text": [
      "[8, 7, 6, 5, 4, 3, 2, 1]\n"
     ]
    }
   ],
   "source": [
    "list=[1,2,3,4,5,6,7,8]\n",
    "res=[]\n",
    "i=0\n",
    "while i<len(list):\n",
    "    res=[list[i]]+res\n",
    "    i=i+1\n",
    "print(res)\n"
   ]
  },
  {
   "cell_type": "code",
   "execution_count": 6,
   "metadata": {},
   "outputs": [
    {
     "name": "stdout",
     "output_type": "stream",
     "text": [
      "jan\n",
      "['mon', 'tue', 'wed', 'thur', 'fri', 'sat', 'sun']\n"
     ]
    },
    {
     "name": "stderr",
     "output_type": "stream",
     "text": [
      "\n",
      "KeyboardInterrupt\n",
      "\n"
     ]
    }
   ],
   "source": [
    "list=[\"jan\",\"feb\",\"mar\",\"apr\",\"may\",\"june\",\"july\",\"aug\",\"sep\",\"oct\",\"nov\",\"dec\"]\n",
    "list2=[\"mon\",\"tue\",\"wed\",\"thur\",\"fri\",\"sat\",\"sun\"]\n",
    "i=0\n",
    "while i<len(list):\n",
    "    \n",
    "    if list[i] in [\"jan\",\"mar\",\"may\",\"july\",\"aug\",\"oct\",\"dec\"]:\n",
    "        print(list[i])\n",
    "        print(list2)\n",
    "        j=1\n",
    "        k=0\n",
    "        while j<=31:\n",
    "            if list2[k]<8:\n",
    "                print(j,end=\" \")\n",
    "                k+=1\n",
    "            else:\n",
    "                if k==8:\n",
    "                    k=0\n",
    "            print()\n",
    "            j=j+1\n",
    "    i=i+1\n",
    "            \n",
    "\n",
    "            \n",
    "\n"
   ]
  },
  {
   "cell_type": "code",
   "execution_count": 25,
   "metadata": {},
   "outputs": [
    {
     "name": "stdout",
     "output_type": "stream",
     "text": [
      "\n",
      "January 2024\n",
      "Mo Tu We Th Fr Sa Su\n",
      "     1  2  3\n",
      " 4  5  6  7  8  9 10\n",
      "11 12 13 14 15 16 17\n",
      "18 19 20 21 22 23 24\n",
      "25 26 27 28 29 30 31\n",
      "\n",
      "February 2024\n",
      "Mo Tu We Th Fr Sa Su\n",
      "   1  2  3  4  5\n",
      " 6  7  8  9 10 11 12\n",
      "13 14 15 16 17 18 19\n",
      "20 21 22 23 24 25 26\n",
      "27 28 29 \n",
      "March 2024\n",
      "Mo Tu We Th Fr Sa Su\n",
      " 1  2  3  4  5  6  7\n",
      " 8  9 10 11 12 13 14\n",
      "15 16 17 18 19 20 21\n",
      "22 23 24 25 26 27 28\n",
      "29 30 31 \n",
      "April 2024\n",
      "Mo Tu We Th Fr Sa Su\n",
      "      1  2\n",
      " 3  4  5  6  7  8  9\n",
      "10 11 12 13 14 15 16\n",
      "17 18 19 20 21 22 23\n",
      "24 25 26 27 28 29 30\n",
      "\n",
      "May 2024\n",
      "Mo Tu We Th Fr Sa Su\n",
      "    1  2  3  4\n",
      " 5  6  7  8  9 10 11\n",
      "12 13 14 15 16 17 18\n",
      "19 20 21 22 23 24 25\n",
      "26 27 28 29 30 31 \n",
      "June 2024\n",
      "Mo Tu We Th Fr Sa Su\n",
      "  1  2  3  4  5  6\n",
      " 7  8  9 10 11 12 13\n",
      "14 15 16 17 18 19 20\n",
      "21 22 23 24 25 26 27\n",
      "28 29 30 \n",
      "July 2024\n",
      "Mo Tu We Th Fr Sa Su\n",
      "       1\n",
      " 2  3  4  5  6  7  8\n",
      " 9 10 11 12 13 14 15\n",
      "16 17 18 19 20 21 22\n",
      "23 24 25 26 27 28 29\n",
      "30 31 \n",
      "August 2024\n",
      "Mo Tu We Th Fr Sa Su\n",
      "     1  2  3\n",
      " 4  5  6  7  8  9 10\n",
      "11 12 13 14 15 16 17\n",
      "18 19 20 21 22 23 24\n",
      "25 26 27 28 29 30 31\n",
      "\n",
      "September 2024\n",
      "Mo Tu We Th Fr Sa Su\n",
      "   1  2  3  4  5\n",
      " 6  7  8  9 10 11 12\n",
      "13 14 15 16 17 18 19\n",
      "20 21 22 23 24 25 26\n",
      "27 28 29 30 \n",
      "October 2024\n",
      "Mo Tu We Th Fr Sa Su\n",
      " 1  2  3  4  5  6  7\n",
      " 8  9 10 11 12 13 14\n",
      "15 16 17 18 19 20 21\n",
      "22 23 24 25 26 27 28\n",
      "29 30 31 \n",
      "November 2024\n",
      "Mo Tu We Th Fr Sa Su\n",
      "      1  2\n",
      " 3  4  5  6  7  8  9\n",
      "10 11 12 13 14 15 16\n",
      "17 18 19 20 21 22 23\n",
      "24 25 26 27 28 29 30\n"
     ]
    }
   ],
   "source": [
    "def print_month(year, month):\n",
    "\tmonth_names = [\"\",\"January\", \"February\", \"March\", \"April\", \"May\", \"June\", \"July\", \"August\", \"September\", \"October\", \"November\", \"December\"]\n",
    "\n",
    "\tprint(f\"\\n{month_names[month]} {year}\")\n",
    "\tprint(\"Mo Tu We Th Fr Sa Su\")\n",
    "\n",
    "\tweekday = (year * 365 + (year - 1) // 4 - (year - 1) // 100 + (year - 1) // 400 + month * 306 + 5) % 7\n",
    "\tdays_in_month = 0\n",
    "\n",
    "\tif month in [4, 6, 9, 11]:\n",
    "\t\tdays_in_month = 30\n",
    "\telif month == 2:\n",
    "\t\tdays_in_month = 29 if (year % 4 == 0 and year % 100 != 0) or (year % 400 == 0) else 28\n",
    "\telse:\n",
    "\t\tdays_in_month = 31\n",
    "\n",
    "\tfor i in range(weekday + days_in_month):\n",
    "\t\tif i < weekday:\n",
    "\t\t\tprint(\" \", end=\"\")\n",
    "\t\telse:\n",
    "\t\t\tprint(f\"{(i - weekday + 1):2d}\", end=\" \" if (i + 1) % 7 else \"\\n\")\n",
    "\n",
    "\n",
    "def print_calendar(year):\n",
    "\tfor month in range(1, 12):\n",
    "\t\tprint_month(year, month)\n",
    "  \n",
    "if __name__ == \"__main__\":\n",
    "\tcurrent_year = 2024\n",
    "\tprint_calendar(current_year)\n"
   ]
  },
  {
   "cell_type": "code",
   "execution_count": null,
   "metadata": {},
   "outputs": [],
   "source": [
    "class animal:\n",
    "    species=None\n",
    "    weight=None\n",
    "    age=None\n",
    "    def __init__(self,species,weight,age):\n",
    "        self.species=species\n",
    "        self.weight=weight\n",
    "        self.age=age\n",
    "class mamal(animal):\n",
    "    food=None\n",
    "    def __init__(self,species,weight,age,food):\n",
    "        super(mamal,self).__init__(species,weight,age)\n",
    "        self.food=food\n",
    "    def display(self):\n",
    "        print(self.species)\n",
    "        print(self.weight)\n",
    "        print(self.age)\n",
    "        print(self.food)\n",
    "class bird(animal):\n",
    "    color=None\n",
    "    def __init__(self,species,weight,age,color):\n",
    "        super(bird,self).__init__(species,weight,age)\n",
    "        self.color=color\n",
    "    def display(self):\n",
    "        print(self.species)\n",
    "        print(self.weight)\n",
    "        print(self.age)\n",
    "        print(self.color)\n"
   ]
  },
  {
   "cell_type": "code",
   "execution_count": 7,
   "metadata": {},
   "outputs": [
    {
     "name": "stdout",
     "output_type": "stream",
     "text": [
      "--------MANAGER---------\n",
      "NAME--> rakesh\n",
      "ID--> 101\n",
      "SALARY--> 50000\n",
      "DEPT--> manager\n",
      "---------DEVELOPER--------\n",
      "NAME--> vaishnav\n",
      "ID--> 102\n",
      "SALARY--> 100000\n",
      "ROLE--> full stack developer\n"
     ]
    }
   ],
   "source": [
    "class employee:\n",
    "    name=None\n",
    "    e_id=None\n",
    "    e_salary=None\n",
    "    def __init__(self,name,e_id,e_salary):\n",
    "        self.name=name\n",
    "        self.e_id=e_id\n",
    "        self.e_salary=e_salary\n",
    "class manager(employee):\n",
    "    m_dept=None\n",
    "    def __init__(self,name,e_id,e_salary,m_dept):\n",
    "        super(manager,self).__init__(name,e_id,e_salary)\n",
    "        self.m_dept=m_dept\n",
    "    def display(self):\n",
    "        print(\"--------MANAGER---------\")\n",
    "        print(\"NAME-->\",self.name)\n",
    "        print(\"ID-->\",self.e_id)\n",
    "        print(\"SALARY-->\",self.e_salary)\n",
    "        print(\"DEPT-->\",self.m_dept)\n",
    "class developer(employee):\n",
    "    role=None\n",
    "    def __init__(self,name,e_id,e_salary,role):\n",
    "        super(developer,self).__init__(name,e_id,e_salary)\n",
    "        self.role=role\n",
    "    def display1(self):\n",
    "        print(\"---------DEVELOPER--------\")\n",
    "        print(\"NAME-->\",self.name)\n",
    "        print(\"ID-->\",self.e_id)\n",
    "        print(\"SALARY-->\",self.e_salary)\n",
    "        print(\"ROLE-->\",self.role)\n",
    "\n",
    "e1=manager(\"rakesh\",101,50000,\"manager\")\n",
    "e2=developer(\"vaishnav\",102,100000,\"full stack developer\")\n",
    "e1.display()\n",
    "e2.display1()"
   ]
  },
  {
   "cell_type": "code",
   "execution_count": 22,
   "metadata": {},
   "outputs": [
    {
     "name": "stdout",
     "output_type": "stream",
     "text": [
      "this is  rakesh and my age is 20 my salary 10000\n"
     ]
    }
   ],
   "source": [
    "class a:\n",
    "    def __init__(self,name,age):\n",
    "        self.name=name\n",
    "        self.age=age\n",
    "    def display(self):\n",
    "        print(\"this is \",self.name,\"and my age is\",self.age)\n",
    "class b:\n",
    "    def __init__(self,salary):\n",
    "        self.salary=salary\n",
    "class c(a,b):\n",
    "    def __init__(self,name,age,salary):\n",
    "        a.__init__(self,name,age)\n",
    "        b.__init__(self,salary)\n",
    "    def display(self):\n",
    "        print(\"this is \",self.name,\"and my age is\",self.age,\"my salary\",self.salary)\n",
    "c1=c(\"rakesh\",20,10000)\n",
    "c1.display()\n",
    "    "
   ]
  },
  {
   "cell_type": "code",
   "execution_count": 6,
   "metadata": {},
   "outputs": [
    {
     "name": "stdout",
     "output_type": "stream",
     "text": [
      "hell\n",
      "o world\n",
      "<class 'str'>\n"
     ]
    }
   ],
   "source": [
    "hi='''hell\n",
    "o world'''\n",
    "print(hi)\n",
    "print(type(hi))"
   ]
  },
  {
   "cell_type": "code",
   "execution_count": 27,
   "metadata": {},
   "outputs": [
    {
     "ename": "SyntaxError",
     "evalue": "invalid syntax. Perhaps you forgot a comma? (1509820307.py, line 3)",
     "output_type": "error",
     "traceback": [
      "\u001b[1;36m  Cell \u001b[1;32mIn[27], line 3\u001b[1;36m\u001b[0m\n\u001b[1;33m    print(\"name=\"{a})\u001b[0m\n\u001b[1;37m          ^\u001b[0m\n\u001b[1;31mSyntaxError\u001b[0m\u001b[1;31m:\u001b[0m invalid syntax. Perhaps you forgot a comma?\n"
     ]
    }
   ],
   "source": [
    "a=\"vinodh\"\n",
    "b=20\n"
   ]
  },
  {
   "cell_type": "code",
   "execution_count": 5,
   "metadata": {},
   "outputs": [
    {
     "name": "stdout",
     "output_type": "stream",
     "text": [
      "this is my salary 10000\n"
     ]
    }
   ],
   "source": [
    "#abstraction\n",
    "from abc import ABC,abstractmethod\n",
    "class a(ABC):\n",
    "    @abstractmethod\n",
    "    def __init__(self,name,age):\n",
    "        self.name=name\n",
    "        self.age=age\n",
    "    def display(self):\n",
    "        print(\"this is \",self.name,\"and my age is\",self.age)\n",
    "class b:\n",
    "    def __init__(self,salary):\n",
    "        self.salary=salary\n",
    "    def display(self):\n",
    "        print(\"this is my salary\",self.salary)\n",
    "class c(a,b):\n",
    "    def __init__(self,name,age,salary):\n",
    "        a.__init__(self,name,age)\n",
    "        b.__init__(self,salary)\n",
    "    #def display(self):\n",
    "        #print(\"this is \",self.name,\"and my age is\",self.age,\"my salary\",self.salary)\n",
    "c1=c(\"rakesh\",20,10000)\n",
    "c1.display()\n",
    "    "
   ]
  },
  {
   "cell_type": "code",
   "execution_count": 6,
   "metadata": {},
   "outputs": [
    {
     "name": "stdout",
     "output_type": "stream",
     "text": [
      "toyota\n",
      "fortuner\n",
      "2000\n"
     ]
    }
   ],
   "source": [
    "#HAS-A relation\n",
    "class company:\n",
    "    def __init__(self,name,startdate):\n",
    "        self.__cname=name\n",
    "        self.__cstartdate=startdate\n",
    "    def setcname(self,newname):\n",
    "        self.__cname=newname \n",
    "    def getcname(self):\n",
    "        return self.__cname\n",
    "    def getcstartdate(self):\n",
    "        return self.__cstartdate\n",
    "\n",
    "    def setcstartdate(self,startdate):\n",
    "        self.__cstartdate=startdate\n",
    "       \n",
    "class car:\n",
    "    def __init__(self,name,price,company):\n",
    "        self.__name=name\n",
    "        self.__price=price\n",
    "        self.__company=company\n",
    "    def getname(self):\n",
    "        return self.__name\n",
    "    def getprice(self):\n",
    "        return self.__price\n",
    "    def getcompany(self):\n",
    "        return self.__company\n",
    "    def setname(self,newname):\n",
    "        self.__name=newname\n",
    "\n",
    "    def setprice(self,newprice):\n",
    "        self.__price=newprice\n",
    "    def setcompany(self,company):\n",
    "        self.__company=company\n",
    "c1=company(\"honda\",1995)\n",
    "c2=car(\"fortuner\",3500000,c1)\n",
    "c2.getcompany().getcname()\n",
    "c2.getcompany().setcname(\"toyota\")\n",
    "print(c2.getcompany().getcname())\n",
    "print(c2.getname())\n",
    "c2.getcompany().setcstartdate(2000)\n",
    "print(c2.getcompany().getcstartdate())"
   ]
  },
  {
   "cell_type": "code",
   "execution_count": 7,
   "metadata": {},
   "outputs": [
    {
     "name": "stdout",
     "output_type": "stream",
     "text": [
      "raju\n"
     ]
    }
   ],
   "source": [
    "class father:\n",
    "    def __init__(self,fname,fage):\n",
    "        self.__fname=fname\n",
    "        self.__fage=fage\n",
    "    def getfname(self):\n",
    "        return self.__fname\n",
    "    def setfname(self,name):\n",
    "        self.__fname=name\n",
    "    def getfage(self):\n",
    "        return self.__fage\n",
    "    def setfage(self,age):\n",
    "        self.__fage=age\n",
    "class mother:\n",
    "    def __init__(self,mname,mage):\n",
    "        self.__mname=mname\n",
    "        self.__mage=mage\n",
    "    def getmname(self):\n",
    "        return self.__mname\n",
    "    def setmname(self,name):\n",
    "        self.__mname=name\n",
    "    def getmage(self):\n",
    "        return self.__mage\n",
    "    def setmage(self,age):\n",
    "        self.__mage=age\n",
    "class student:\n",
    "    def __init__(self,name,section,father,mother):\n",
    "        self.__name=name\n",
    "        self.__section=section\n",
    "        self.__father=father\n",
    "        self.__mother=mother\n",
    "    def getsname(self):\n",
    "        return self.__name\n",
    "    def setsname(self,name):\n",
    "        self.__name=name\n",
    "    def getsection(self):\n",
    "        return self.__section\n",
    "    def setsection(self,section):\n",
    "        self.__section=section\n",
    "    def getfather(self):\n",
    "        return self.__father\n",
    "    def setfather(self,father):\n",
    "        self.__father=father\n",
    "    def getmother(self):\n",
    "        return self.__mother\n",
    "    def setmother(self,mother):\n",
    "        self.__mother=mother\n",
    "f1=father(\"raju\",45)\n",
    "m1=mother(\"rani\",39)\n",
    "s1=student(\"ramesh\",\"5th class\",f1,m1)\n",
    "print(s1.getfather().getfname())\n",
    "    \n"
   ]
  }
 ],
 "metadata": {
  "kernelspec": {
   "display_name": "Python 3",
   "language": "python",
   "name": "python3"
  },
  "language_info": {
   "codemirror_mode": {
    "name": "ipython",
    "version": 3
   },
   "file_extension": ".py",
   "mimetype": "text/x-python",
   "name": "python",
   "nbconvert_exporter": "python",
   "pygments_lexer": "ipython3",
   "version": "3.12.2"
  }
 },
 "nbformat": 4,
 "nbformat_minor": 2
}
