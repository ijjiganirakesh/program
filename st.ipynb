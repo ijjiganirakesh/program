{
 "cells": [
  {
   "cell_type": "code",
   "execution_count": 2,
   "metadata": {},
   "outputs": [
    {
     "name": "stdout",
     "output_type": "stream",
     "text": [
      "olleh\n"
     ]
    }
   ],
   "source": [
    "st=input()\n",
    "res=\"\"\n",
    "for i in st:\n",
    "    res=i+res\n",
    "print(res)"
   ]
  },
  {
   "cell_type": "code",
   "execution_count": 3,
   "metadata": {},
   "outputs": [
    {
     "name": "stdout",
     "output_type": "stream",
     "text": [
      "olleh\n"
     ]
    }
   ],
   "source": [
    "st=input()\n",
    "res=\"\"\n",
    "for i in st:\n",
    "    res=i+res\n",
    "print(res)"
   ]
  },
  {
   "cell_type": "code",
   "execution_count": 4,
   "metadata": {},
   "outputs": [
    {
     "name": "stdout",
     "output_type": "stream",
     "text": [
      ")*#$ $*(,44321,ooe,dlrwllh\n"
     ]
    }
   ],
   "source": [
    "st=\"(*12hello3$ $4#world4*)\"\n",
    "sym=\"\"\n",
    "vow=\"\"\n",
    "con=\"\"\n",
    "dig=\"\"\n",
    "for i in st:\n",
    "    if \"A\"<=i<=\"Z\" or \"a\"<=i<=\"z\":\n",
    "        if i in \"aeiouAEIOU\":\n",
    "            vow=i+vow\n",
    "        else:\n",
    "            con=i+con\n",
    "    elif \"0\"<=i<=\"9\":\n",
    "        dig=i+dig\n",
    "    else:\n",
    "        sym=i+sym\n",
    "print(sym+\",\"+dig+\",\"+vow+\",\"+con)\n",
    "    \n"
   ]
  },
  {
   "cell_type": "code",
   "execution_count": 5,
   "metadata": {},
   "outputs": [
    {
     "name": "stdout",
     "output_type": "stream",
     "text": [
      "hllwrld,eoo,12344,(*$ $#*)\n"
     ]
    }
   ],
   "source": [
    "st=\"(*12hello3$ $4#world4*)\"\n",
    "sym=\"\"\n",
    "vow=\"\"\n",
    "con=\"\"\n",
    "dig=\"\"\n",
    "for i in st:\n",
    "    if \"A\"<=i<=\"Z\" or \"a\"<=i<=\"z\":\n",
    "        if i in \"aeiouAEIOU\":\n",
    "            vow=vow+i\n",
    "        else:\n",
    "            con=con+i\n",
    "    elif \"0\"<=i<=\"9\":\n",
    "        dig=dig+i\n",
    "    else:\n",
    "        sym=sym+i\n",
    "print(con+\",\"+vow+\",\"+dig+\",\"+sym)\n",
    "    \n"
   ]
  },
  {
   "cell_type": "code",
   "execution_count": 3,
   "metadata": {},
   "outputs": [
    {
     "name": "stdout",
     "output_type": "stream",
     "text": [
      "hllwrld,)*#$ $*(,eoo,44321\n"
     ]
    }
   ],
   "source": [
    "st=\"(*12hello3$ $4#world4*)\"\n",
    "sym=\"\"\n",
    "vow=\"\"\n",
    "con=\"\"\n",
    "dig=\"\"\n",
    "for i in st:\n",
    "    if \"A\"<=i<=\"Z\" or \"a\"<=i<=\"z\":\n",
    "        if i in \"aeiouAEIOU\":\n",
    "            vow=vow+i\n",
    "        else:\n",
    "            con=con+i\n",
    "    elif \"0\"<=i<=\"9\":\n",
    "        dig=i+dig\n",
    "    else:\n",
    "        sym=i+sym\n",
    "print(con+\",\"+sym+\",\"+vow+\",\"+dig)\n",
    "    \n"
   ]
  },
  {
   "cell_type": "code",
   "execution_count": 4,
   "metadata": {},
   "outputs": [
    {
     "name": "stdout",
     "output_type": "stream",
     "text": [
      ")*#$ $*(,44321,ooe,dlrwllh\n"
     ]
    }
   ],
   "source": [
    "st=\"(*12hello3$ $4#world4*)\"\n",
    "sym=\"\"\n",
    "vow=\"\"\n",
    "con=\"\"\n",
    "dig=\"\"\n",
    "for i in st:\n",
    "    if \"A\"<=i<=\"Z\" or \"a\"<=i<=\"z\":\n",
    "        if i in \"aeiouAEIOU\":\n",
    "            vow=i+vow\n",
    "        else:\n",
    "            con=i+con\n",
    "    elif \"0\"<=i<=\"9\":\n",
    "        dig=i+dig\n",
    "    else:\n",
    "        sym=i+sym\n",
    "print(sym+\",\"+dig+\",\"+vow+\",\"+con)\n",
    "    \n"
   ]
  },
  {
   "cell_type": "code",
   "execution_count": 6,
   "metadata": {},
   "outputs": [
    {
     "name": "stdout",
     "output_type": "stream",
     "text": [
      "dlrwllh)*#$ $*(ooe44321\n"
     ]
    }
   ],
   "source": [
    "st=\"(*12hello3$ $4#world4*)\"\n",
    "sym=\"\"\n",
    "vow=\"\"\n",
    "con=\"\"\n",
    "dig=\"\"\n",
    "for i in st:\n",
    "    if \"A\"<=i<=\"Z\" or \"a\"<=i<=\"z\":\n",
    "        if i in \"aeiouAEIOU\":\n",
    "            vow=i+vow\n",
    "        else:\n",
    "            con=i+con\n",
    "    elif \"0\"<=i<=\"9\":\n",
    "        dig=i+dig\n",
    "    else:\n",
    "        sym=i+sym\n",
    "print(con+sym+vow+dig)\n",
    "    \n"
   ]
  },
  {
   "cell_type": "code",
   "execution_count": 29,
   "metadata": {},
   "outputs": [
    {
     "name": "stdout",
     "output_type": "stream",
     "text": [
      "hll world haii wrld \n"
     ]
    }
   ],
   "source": [
    "st=\"hello world 123 haii world \"\n",
    "res=\"\"\n",
    "res2=\"\"\n",
    "c=0\n",
    "for i in st:\n",
    "    res=res+i\n",
    "    if i==\" \":\n",
    "        c+=1\n",
    "        if c%2==1:\n",
    "            res1=\"\"\n",
    "            for j in res:\n",
    "                if j not in(\"aeiouAEIOU\") and not(\"0\"<=j<=\"9\"):\n",
    "                    res1=res1+j\n",
    "            if res1!=\" \":\n",
    "                res2=res2+res1\n",
    "            res=\"\"\n",
    "\n",
    "        else:\n",
    "            res2=res2+res\n",
    "            res=\"\"\n",
    "print(res2)\n",
    "    "
   ]
  },
  {
   "cell_type": "code",
   "execution_count": 42,
   "metadata": {},
   "outputs": [
    {
     "name": "stdout",
     "output_type": "stream",
     "text": [
      "h$ll*w*rld\n"
     ]
    }
   ],
   "source": [
    "st=\"HELLOWORLD\"\n",
    "res=\"\"\n",
    "for i in st:\n",
    "    if \"A\"<=i<=\"Z\":\n",
    "        if i in \"aeiouAEIOU\":\n",
    "            if i==\"E\":\n",
    "                i=\"$\"\n",
    "                res=res+i\n",
    "            elif i==\"O\":\n",
    "                i=\"*\"\n",
    "                res=res+i\n",
    "\n",
    "        else:\n",
    "            j=chr(ord(i)+32)\n",
    "            res=res+j\n",
    "print(res)"
   ]
  },
  {
   "cell_type": "code",
   "execution_count": 43,
   "metadata": {},
   "outputs": [
    {
     "name": "stdout",
     "output_type": "stream",
     "text": [
      "hllwrld21\n"
     ]
    }
   ],
   "source": [
    "st=\"123HELLO WORLD456\"\n",
    "sum=0\n",
    "res=\"\"\n",
    "for i in st:\n",
    "    if \"A\"<=i<=\"Z\":\n",
    "        if i not in \"aeiouAEIOU\":\n",
    "            j=chr(ord(i)+32)\n",
    "            res=res+j\n",
    "    elif \"0\"<=i<=\"9\":\n",
    "        sum=sum+int(i)\n",
    "print(res+str(sum))\n",
    "            \n"
   ]
  },
  {
   "cell_type": "code",
   "execution_count": 47,
   "metadata": {},
   "outputs": [
    {
     "name": "stdout",
     "output_type": "stream",
     "text": [
      "123hEllO wOrld456\n"
     ]
    }
   ],
   "source": [
    "st=\"123HELLO WORLD456\"\n",
    "res=\"\"\n",
    "for i in st:\n",
    "    if i in \"aeiouAEIOU\" or \"0\"<=i<=\"9\" or i==\" \":\n",
    "        res=res+i\n",
    "    elif \"A\"<=i<=\"Z\":\n",
    "        if i not in \"aeiouAEIOU\":\n",
    "            j=chr(ord(i)+32)\n",
    "            res=res+j\n",
    "print(res)\n",
    "\n"
   ]
  },
  {
   "cell_type": "code",
   "execution_count": 53,
   "metadata": {},
   "outputs": [
    {
     "name": "stdout",
     "output_type": "stream",
     "text": [
      "321hEllO wOrld654\n"
     ]
    }
   ],
   "source": [
    "#137\n",
    "st=\"123HELLO WORLD456\"\n",
    "res=\"\"\n",
    "res1=\"\"\n",
    "res2=\"\"\n",
    "for i in st:\n",
    "    if i in \"aeiouAEIOU\" or i==\" \":\n",
    "        res=res+i\n",
    "    elif \"0\"<=i<=\"3\":\n",
    "        res1=i+res1\n",
    "    elif \"4\"<=i<=\"9\":\n",
    "        res2=i+res2\n",
    "    elif \"A\"<=i<=\"Z\":\n",
    "        if i not in \"aeiouAEIOU\":\n",
    "            j=chr(ord(i)+32)\n",
    "            res=res+j\n",
    "print(res1+res+res2)\n",
    "\n"
   ]
  },
  {
   "cell_type": "code",
   "execution_count": 56,
   "metadata": {},
   "outputs": [
    {
     "name": "stdout",
     "output_type": "stream",
     "text": [
      "321*E**O *O***654\n"
     ]
    }
   ],
   "source": [
    "#138\n",
    "st=\"123HELLO WORLD456\"\n",
    "res=\"\"\n",
    "res1=\"\"\n",
    "res2=\"\"\n",
    "for i in st:\n",
    "    if i in \"aeiouAEIOU\" or i==\" \":\n",
    "        res=res+i\n",
    "    elif \"0\"<=i<=\"3\":\n",
    "        res1=i+res1\n",
    "    elif \"4\"<=i<=\"9\":\n",
    "        res2=i+res2\n",
    "    elif \"A\"<=i<=\"Z\":\n",
    "        if i not in \"aeiouAEIOU\":\n",
    "            i=\"*\"\n",
    "            res=res+i\n",
    "print(res1+res+res2)\n",
    "\n"
   ]
  },
  {
   "cell_type": "code",
   "execution_count": 61,
   "metadata": {},
   "outputs": [
    {
     "name": "stdout",
     "output_type": "stream",
     "text": [
      "123*E**O *O***456\n"
     ]
    }
   ],
   "source": [
    "#139\n",
    "st=\"123HELLO WORLD456\"\n",
    "res=\"\"\n",
    "for i in st:\n",
    "    if i in \"aeiouAEIOU\" or \"0\"<=i<=\"9\" or i==\" \":\n",
    "        res=res+i\n",
    "    elif \"A\"<=i<=\"Z\":\n",
    "        if i not in \"aeiouAEIOU\":\n",
    "            i=\"*\"\n",
    "            res=res+i\n",
    "print(res)\n",
    "\n"
   ]
  },
  {
   "cell_type": "code",
   "execution_count": 77,
   "metadata": {},
   "outputs": [
    {
     "name": "stdout",
     "output_type": "stream",
     "text": [
      "axbycz\n"
     ]
    }
   ],
   "source": [
    "#140\n",
    "st=\"abc\"\n",
    "st1=\"xyz\"\n",
    "res=\"\"\n",
    "for i in st:\n",
    "    res=res+i\n",
    "    for j in st1:\n",
    "        if j in res:\n",
    "            res=res\n",
    "        else:\n",
    "            res=res+j\n",
    "            break\n",
    "print(res)\n",
    "        "
   ]
  },
  {
   "cell_type": "code",
   "execution_count": 1,
   "metadata": {},
   "outputs": [
    {
     "name": "stdout",
     "output_type": "stream",
     "text": [
      "axbyczde\n"
     ]
    }
   ],
   "source": [
    "#141\n",
    "st=\"abcde\"\n",
    "st1=\"xyz\"\n",
    "res=\"\"\n",
    "for i in st:\n",
    "    res=res+i\n",
    "    for j in st1:\n",
    "        if j in res:\n",
    "            res=res\n",
    "        else:\n",
    "            res=res+j\n",
    "            break\n",
    "print(res)\n",
    "        \n",
    "        "
   ]
  },
  {
   "cell_type": "code",
   "execution_count": 5,
   "metadata": {},
   "outputs": [
    {
     "name": "stdout",
     "output_type": "stream",
     "text": [
      "axbyczw\n"
     ]
    }
   ],
   "source": [
    "#142\n",
    "st=\"abc\"\n",
    "st1=\"xyzw\"\n",
    "res=\"\"\n",
    "for i in st1:\n",
    "    for j in st:\n",
    "        if j in res:\n",
    "            res=res\n",
    "        else:\n",
    "            res=res+j\n",
    "            break\n",
    "    res=res+i\n",
    "print(res)\n",
    "        "
   ]
  },
  {
   "cell_type": "code",
   "execution_count": 4,
   "metadata": {},
   "outputs": [
    {
     "name": "stdout",
     "output_type": "stream",
     "text": [
      "axbyczw\n"
     ]
    }
   ],
   "source": [
    "#143\n",
    "st1=\"abc\"\n",
    "st2=\"xyzw\"\n",
    "res=\"\"\n",
    "n1=len(st1)\n",
    "n2=len(st2)\n",
    "g=n1\n",
    "s=n2\n",
    "if n2>n1:\n",
    "    g=n2\n",
    "    s=n1\n",
    "i=0\n",
    "while i<g:\n",
    "    if i<s:\n",
    "        res=res+st1[i]+st2[i]\n",
    "    else:\n",
    "        res=res+[i]\n",
    "    i=i+1\n",
    "print(res)"
   ]
  },
  {
   "cell_type": "code",
   "execution_count": 14,
   "metadata": {},
   "outputs": [
    {
     "name": "stdout",
     "output_type": "stream",
     "text": [
      "a1b2c3\n"
     ]
    }
   ],
   "source": [
    "#144\n",
    "st=\"abc123\"\n",
    "alp=\"\"\n",
    "dig=\"\"\n",
    "res=\"\"\n",
    "for i in st:\n",
    "    if \"a\"<=i<=\"z\" or \"A\"<=i<=\"Z\":\n",
    "        alp=alp+i\n",
    "    else:\n",
    "        dig=dig+i\n",
    "for j in alp:\n",
    "    res=res+j\n",
    "    for k in dig:\n",
    "        if k in res:\n",
    "            res=res\n",
    "        else:\n",
    "            res=res+k\n",
    "            break\n",
    "print(res)\n",
    "    \n",
    "\n",
    "    "
   ]
  },
  {
   "cell_type": "code",
   "execution_count": 15,
   "metadata": {},
   "outputs": [
    {
     "name": "stdout",
     "output_type": "stream",
     "text": [
      "a1b2c\n"
     ]
    }
   ],
   "source": [
    "#145\n",
    "st=\"abc12\"\n",
    "alp=\"\"\n",
    "dig=\"\"\n",
    "res=\"\"\n",
    "for i in st:\n",
    "    if \"a\"<=i<=\"z\" or \"A\"<=i<=\"Z\":\n",
    "        alp=alp+i\n",
    "    else:\n",
    "        dig=dig+i\n",
    "for j in alp:\n",
    "    res=res+j\n",
    "    for k in dig:\n",
    "        if k in res:\n",
    "            res=res\n",
    "        else:\n",
    "            res=res+k\n",
    "            break\n",
    "print(res)\n",
    "    \n",
    "\n",
    "    "
   ]
  },
  {
   "cell_type": "code",
   "execution_count": 22,
   "metadata": {},
   "outputs": [
    {
     "name": "stdout",
     "output_type": "stream",
     "text": [
      "a1b2c34\n"
     ]
    }
   ],
   "source": [
    "#146\n",
    "st=\"abc1234\"\n",
    "alp=\"\"\n",
    "dig=\"\"\n",
    "res=\"\"\n",
    "for i in st:\n",
    "    if \"a\"<=i<=\"z\" or \"A\"<=i<=\"Z\":\n",
    "        alp=alp+i\n",
    "    else:\n",
    "        dig=dig+i\n",
    "for j in dig:\n",
    "    \n",
    "    for k in alp:\n",
    "        if k in res:\n",
    "            res=res\n",
    "        else:\n",
    "            res=res+k\n",
    "            break\n",
    "    res=res+j\n",
    "print(res)\n",
    "    \n",
    "\n",
    "    "
   ]
  },
  {
   "cell_type": "code",
   "execution_count": 28,
   "metadata": {},
   "outputs": [
    {
     "name": "stdout",
     "output_type": "stream",
     "text": [
      "a1b2c34\n"
     ]
    }
   ],
   "source": [
    "#147\n",
    "st=\"1a2bc34\"\n",
    "alp=\"\"\n",
    "dig=\"\"\n",
    "res=\"\"\n",
    "for i in st:\n",
    "    if \"a\"<=i<=\"z\" or \"A\"<=i<=\"Z\":\n",
    "        alp=alp+i\n",
    "    else:\n",
    "        dig=dig+i\n",
    "for j in dig:\n",
    "    for k in alp:\n",
    "        if k in res:\n",
    "            res=res\n",
    "        else:\n",
    "            res=res+k\n",
    "            break\n",
    "    res=res+j\n",
    "print(res)\n",
    "    \n",
    "\n",
    "    "
   ]
  },
  {
   "cell_type": "code",
   "execution_count": 29,
   "metadata": {},
   "outputs": [
    {
     "name": "stdout",
     "output_type": "stream",
     "text": [
      "3\n"
     ]
    }
   ],
   "source": [
    "#148\n",
    "st=\"abcdef1hdt2hafstr5\"\n",
    "res=\"\"\n",
    "count=0\n",
    "for i in st:\n",
    "    if \"0\"<=i<=\"9\":\n",
    "        res=res+i\n",
    "        count=count+1\n",
    "print(count)"
   ]
  },
  {
   "cell_type": "code",
   "execution_count": 36,
   "metadata": {},
   "outputs": [
    {
     "name": "stdout",
     "output_type": "stream",
     "text": [
      "HA1I2I3 HE4LLO5\n"
     ]
    }
   ],
   "source": [
    "#149\n",
    "st=\"HAII HELLO\"\n",
    "i=0\n",
    "j=1\n",
    "res=\"\"\n",
    "while i<len(st):\n",
    "\n",
    "    if st[i] in \"aeiouAEIOU\":\n",
    "        res=res+st[i]+str(j)\n",
    "        j+=1\n",
    "    else:\n",
    "        res=res+st[i]\n",
    "    i+=1\n",
    "print(res)"
   ]
  },
  {
   "cell_type": "code",
   "execution_count": 37,
   "metadata": {},
   "outputs": [
    {
     "name": "stdout",
     "output_type": "stream",
     "text": [
      "H1AII 2H3EL4L5O\n"
     ]
    }
   ],
   "source": [
    "#150\n",
    "st=\"HAII HELLO\"\n",
    "i=0\n",
    "j=1\n",
    "res=\"\"\n",
    "while i<len(st):\n",
    "\n",
    "    if st[i] not in \"aeiouAEIOU\":\n",
    "        res=res+st[i]+str(j)\n",
    "        j+=1\n",
    "    else:\n",
    "        res=res+st[i]\n",
    "    i+=1\n",
    "print(res)"
   ]
  },
  {
   "cell_type": "code",
   "execution_count": 50,
   "metadata": {},
   "outputs": [
    {
     "name": "stdout",
     "output_type": "stream",
     "text": [
      "egg\n",
      "aii\n",
      "apple\n"
     ]
    }
   ],
   "source": [
    "#151\n",
    "l=[\"hello\",\"egg\",\"458\",\"aii\",\"orange\",\"apple\"]\n",
    "i=0\n",
    "j=0\n",
    "while i<len(l):\n",
    "    if type(l[i])==str:\n",
    "        st=l[i]\n",
    "        if len(l[i])%2==1 and st[j] in \"aeiouAEIOU\":\n",
    "            print(l[i])\n",
    "    i=i+1\n"
   ]
  },
  {
   "cell_type": "code",
   "execution_count": 54,
   "metadata": {},
   "outputs": [
    {
     "name": "stdout",
     "output_type": "stream",
     "text": [
      "aaac\n"
     ]
    }
   ],
   "source": [
    "#152\n",
    "st=\"a3b2c4\"\n",
    "alp=\"\"\n",
    "dig=\"\"\n",
    "res=\"\"\n",
    "for i in st:\n",
    "    if \"a\"<=i<=\"z\" or \"A\"<=i<=\"Z\":\n",
    "        alp=alp+i\n",
    "    else:\n",
    "        dig=dig+i\n",
    "j=0\n",
    "k=0\n",
    "for i in alp:\n",
    "    while j<int(dig[k]):\n",
    "        res=res+i\n",
    "        j=j+1\n",
    "    k=k+1\n",
    "\n",
    "print(res)\n",
    "    \n",
    "\n",
    "    "
   ]
  }
 ],
 "metadata": {
  "kernelspec": {
   "display_name": "Python 3",
   "language": "python",
   "name": "python3"
  },
  "language_info": {
   "codemirror_mode": {
    "name": "ipython",
    "version": 3
   },
   "file_extension": ".py",
   "mimetype": "text/x-python",
   "name": "python",
   "nbconvert_exporter": "python",
   "pygments_lexer": "ipython3",
   "version": "3.12.2"
  }
 },
 "nbformat": 4,
 "nbformat_minor": 2
}
