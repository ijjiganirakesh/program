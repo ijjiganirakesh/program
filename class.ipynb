{
 "cells": [
  {
   "cell_type": "code",
   "execution_count": 1,
   "metadata": {},
   "outputs": [
    {
     "name": "stdout",
     "output_type": "stream",
     "text": [
      "{'__module__': '__main__', 'a': 15, '__dict__': <attribute '__dict__' of 'Animal' objects>, '__weakref__': <attribute '__weakref__' of 'Animal' objects>, '__doc__': None}\n"
     ]
    }
   ],
   "source": [
    "class Animal:\n",
    "    a=10\n",
    "Animal.a=15\n",
    "print(Animal.__dict__)"
   ]
  },
  {
   "cell_type": "code",
   "execution_count": 3,
   "metadata": {},
   "outputs": [
    {
     "name": "stdout",
     "output_type": "stream",
     "text": [
      "20\n",
      "61\n"
     ]
    }
   ],
   "source": [
    "class a:\n",
    "    name=\"vaishnav\"\n",
    "    age=60\n",
    "print(a.name)\n",
    "a.age=61\n",
    "print(a.age)\n"
   ]
  },
  {
   "cell_type": "code",
   "execution_count": 2,
   "metadata": {},
   "outputs": [
    {
     "name": "stdout",
     "output_type": "stream",
     "text": [
      "rakesh\n"
     ]
    }
   ],
   "source": [
    "class animal:\n",
    "    name=\"rakesh\"\n",
    "    age=None\n",
    "print(animal.name)"
   ]
  },
  {
   "cell_type": "code",
   "execution_count": 5,
   "metadata": {},
   "outputs": [
    {
     "name": "stdout",
     "output_type": "stream",
     "text": [
      "10000\n",
      "10000\n",
      "10000\n",
      "30333\n",
      "20000\n",
      "30333\n"
     ]
    }
   ],
   "source": [
    "class phone:\n",
    "    price=10000\n",
    "iphone=phone()\n",
    "android=phone()\n",
    "print(phone.price)\n",
    "print(iphone.price)\n",
    "print(android.price)\n",
    "iphone.price=20000\n",
    "phone.price=30333\n",
    "print(phone.price)\n",
    "print(iphone.price)\n",
    "print(android.price)\n"
   ]
  },
  {
   "cell_type": "code",
   "execution_count": null,
   "metadata": {},
   "outputs": [],
   "source": [
    "class employee:\n",
    "    name=\"vaishnav\"\n",
    "    salary=50000\n",
    "e1=employee()\n",
    "e2=employee()\n",
    "e1.name=\"raju\"\n",
    "e1.salary=60000\n",
    "e2.name=\"rani\"\n",
    "e2.salary=100000\n",
    "print(employee.name)\n",
    "print(e1.name)\n",
    "print(e2.name)"
   ]
  },
  {
   "cell_type": "code",
   "execution_count": 10,
   "metadata": {},
   "outputs": [
    {
     "name": "stdout",
     "output_type": "stream",
     "text": [
      "ravi 30\n"
     ]
    }
   ],
   "source": [
    "class student:\n",
    "    name=None\n",
    "    age=0\n",
    "    @classmethod\n",
    "    def newname(cls,name1,age1):\n",
    "        cls.name=name1\n",
    "        cls.age=age1\n",
    "student.newname(\"ravi\",30)\n",
    "print(student.name,student.age)"
   ]
  },
  {
   "cell_type": "code",
   "execution_count": 35,
   "metadata": {},
   "outputs": [
    {
     "name": "stdout",
     "output_type": "stream",
     "text": [
      "* * * * *      \n",
      "* * * * *      \n",
      "* * * * *      \n",
      "* * * * *      \n",
      "* * * * * * * * * * \n",
      "* * * * * * * * * * \n",
      "* * * * * * * * * * \n",
      "* * * * * * * * * * \n",
      "* * * * * * * * * * \n",
      "* * * * * * * * * * \n"
     ]
    }
   ],
   "source": [
    "i=1\n",
    "while i<=5:\n",
    "    j=1\n",
    "    while j<=5:\n",
    "        if i<=5:\n",
    "            print(\"*\",end=\" \")\n",
    "        else:\n",
    "            print(\"\",end=\" \")\n",
    "        j=j+1\n",
    "    j=1\n",
    "    while j<=5:\n",
    "        if i>=5:\n",
    "            print(\"*\",end=\" \")\n",
    "        else:\n",
    "            print(\"\",end=\" \")\n",
    "        j=j+1\n",
    "    print()\n",
    "    i+=1\n",
    "i=1\n",
    "while i<=5:\n",
    "    j=1\n",
    "    while j<=5:\n",
    "        if i<=5:\n",
    "            print(\"*\",end=\" \")\n",
    "        else:\n",
    "            print(\"\",end=\" \")\n",
    "        j=j+1\n",
    "    j=1\n",
    "    while j<=5:\n",
    "        if j<=5:\n",
    "            print(\"*\",end=\" \")\n",
    "        else:\n",
    "            print(\"\",end=\" \")\n",
    "        j=j+1\n",
    "    print()\n",
    "    i=i+1\n"
   ]
  },
  {
   "cell_type": "code",
   "execution_count": 9,
   "metadata": {},
   "outputs": [
    {
     "name": "stdout",
     "output_type": "stream",
     "text": [
      "\n",
      "<\n",
      "\n",
      ">\n",
      "\n",
      "{\n",
      "\n",
      ")\n",
      "\n",
      "#\n"
     ]
    }
   ],
   "source": [
    "st=\"nesoiehf98820200E1<>{)#YQ2EP\"\n",
    "c=0\n",
    "res=\"\"\n",
    "for i in st:\n",
    "    if not(\"A\"<=i<=\"Z\" or \"a\"<=i<=\"z\" or \"0\"<=i<=\"9\"):\n",
    "        res=i\n",
    "        print(\"\")\n",
    "        print(res)"
   ]
  },
  {
   "cell_type": "code",
   "execution_count": 11,
   "metadata": {},
   "outputs": [
    {
     "name": "stdout",
     "output_type": "stream",
     "text": [
      "vaishnavi\n",
      "23\n",
      "female\n"
     ]
    }
   ],
   "source": [
    "class bhupesh:\n",
    "    name=None\n",
    "    age=20\n",
    "    gnder=\"male\"\n",
    "    @classmethod\n",
    "    def Name(cls,name1,age1,gender1):\n",
    "        cls.name=name1\n",
    "        cls.age=age1\n",
    "        cls.gender=gender1\n",
    "bhupesh.Name(\"vaishnavi\",23,\"female\")\n",
    "print(bhupesh.name)\n",
    "del bhupesh.name\n",
    "#print(bhupesh.name)\n",
    "print(bhupesh.age)\n",
    "del bhupesh.age\n",
    "#print(bhupesh.age)\n",
    "print(bhupesh.gender)\n",
    "del bhupesh.gender\n",
    "#print(bhupesh.gender)"
   ]
  },
  {
   "cell_type": "code",
   "execution_count": 2,
   "metadata": {},
   "outputs": [
    {
     "name": "stdout",
     "output_type": "stream",
     "text": [
      "10\n"
     ]
    }
   ],
   "source": [
    "num1=10\n",
    "num2=2\n",
    "large=0\n",
    "if num1>num2:\n",
    "    large=num1\n",
    "else:\n",
    "    large=num2\n",
    "print(large)"
   ]
  },
  {
   "cell_type": "code",
   "execution_count": 7,
   "metadata": {},
   "outputs": [
    {
     "name": "stdout",
     "output_type": "stream",
     "text": [
      "vaishnav\n"
     ]
    }
   ],
   "source": [
    "class hello:\n",
    "    name=None\n",
    "    @classmethod\n",
    "    def newmodify(cls,modname):\n",
    "        cls.name=modname\n",
    "\n",
    "hello.newmodify(\"bhupesh\")\n",
    "p=hello()\n",
    "p.newmodify(\"vaishnav\")\n",
    "print(hello.name)\n",
    "#print(p.name)"
   ]
  },
  {
   "cell_type": "code",
   "execution_count": null,
   "metadata": {},
   "outputs": [],
   "source": []
  },
  {
   "cell_type": "code",
   "execution_count": 9,
   "metadata": {},
   "outputs": [
    {
     "name": "stdout",
     "output_type": "stream",
     "text": [
      "bhupesh\n",
      "vaishnav\n"
     ]
    }
   ],
   "source": [
    "class laptop:\n",
    "    name=None\n",
    "    price=10000\n",
    "    colour=\"red\"\n",
    "    def newname(self,lname,):\n",
    "        self.name=lname\n",
    "    def newprice(self,lprice):\n",
    "        self.price=lprice\n",
    "    def newcolour(self,lcolour):\n",
    "        self.colour=lcolour\n",
    "    def displayname(self):\n",
    "        print(self.name)\n",
    "    def displayprice(self):\n",
    "        print(self.price)\n",
    "    def displaycolour(self):\n",
    "        print(self.colour)\n",
    "s1=laptop()\n",
    "s2=laptop()\n",
    "s1.newname(\"bhupesh\")\n",
    "s1.displayname()\n",
    "s2.newname(\"vaishnav\")\n",
    "s2.displayname()"
   ]
  },
  {
   "cell_type": "code",
   "execution_count": 14,
   "metadata": {},
   "outputs": [
    {
     "name": "stdout",
     "output_type": "stream",
     "text": [
      "bhupesh\n",
      "30000\n",
      "blue\n",
      "usha\n",
      "50000\n",
      "green\n"
     ]
    }
   ],
   "source": [
    "class laptop:\n",
    "    name=None\n",
    "    price=10000\n",
    "    colour=\"red\"\n",
    "    def newname(self,lname,lprice,lcolour):\n",
    "        self.name=lname\n",
    "        self.price=lprice\n",
    "        self.colour=lcolour\n",
    "    def displayname(self):\n",
    "        print(self.name)\n",
    "        print(self.price)\n",
    "        print(self.colour)\n",
    "s1=laptop()\n",
    "s2=laptop()\n",
    "s1.newname(\"bhupesh\",30000,\"blue\")\n",
    "s1.displayname()\n",
    "s2.newname(\"usha\",50000,\"green\")\n",
    "s2.displayname()"
   ]
  }
 ],
 "metadata": {
  "kernelspec": {
   "display_name": "Python 3",
   "language": "python",
   "name": "python3"
  },
  "language_info": {
   "codemirror_mode": {
    "name": "ipython",
    "version": 3
   },
   "file_extension": ".py",
   "mimetype": "text/x-python",
   "name": "python",
   "nbconvert_exporter": "python",
   "pygments_lexer": "ipython3",
   "version": "3.12.2"
  }
 },
 "nbformat": 4,
 "nbformat_minor": 2
}
