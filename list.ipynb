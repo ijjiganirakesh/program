{
 "cells": [
  {
   "cell_type": "code",
   "execution_count": 8,
   "metadata": {},
   "outputs": [
    {
     "name": "stdout",
     "output_type": "stream",
     "text": [
      "[5, 7, 8, 11, 13]\n"
     ]
    }
   ],
   "source": [
    "list=[2,4,5,8,10]\n",
    "res=[]\n",
    "for i in list:\n",
    "    res=res+[i+3]\n",
    "print(res)"
   ]
  },
  {
   "cell_type": "code",
   "execution_count": 9,
   "metadata": {},
   "outputs": [
    {
     "name": "stdout",
     "output_type": "stream",
     "text": [
      "[9, 16, 25, 4, 100]\n"
     ]
    }
   ],
   "source": [
    "l=[3,4,5,2,10]\n",
    "res=[]\n",
    "for i in l:\n",
    "    res=res+[i**2]\n",
    "print(res)"
   ]
  },
  {
   "cell_type": "code",
   "execution_count": 13,
   "metadata": {},
   "outputs": [
    {
     "name": "stdout",
     "output_type": "stream",
     "text": [
      "it is prime number\n"
     ]
    }
   ],
   "source": [
    "l=[1,2,7,4,5]\n",
    "mid=len(l)//2\n",
    "val=l[mid]\n",
    "i=1\n",
    "c=0\n",
    "while i<=val:\n",
    "    if val%i==0:\n",
    "        c+=1\n",
    "    i=i+1\n",
    "if c==2:\n",
    "    print(\"it is prime number\")\n",
    "else:\n",
    "    print(\"not prime\")"
   ]
  },
  {
   "cell_type": "code",
   "execution_count": 14,
   "metadata": {},
   "outputs": [
    {
     "name": "stdout",
     "output_type": "stream",
     "text": [
      "[5, 4, 3, 2, 1]\n"
     ]
    }
   ],
   "source": [
    "l=[1,2,3,4,5]\n",
    "res=[]\n",
    "for i in l:\n",
    "    res=[i]+res\n",
    "print(res)"
   ]
  },
  {
   "cell_type": "code",
   "execution_count": 17,
   "metadata": {},
   "outputs": [
    {
     "name": "stdout",
     "output_type": "stream",
     "text": [
      "[5, 4, 6, 2, 1]\n",
      "6\n",
      "it is perfect\n"
     ]
    }
   ],
   "source": [
    "l=[1,2,6,4,5]\n",
    "res=[]\n",
    "for i in l:\n",
    "    res=[i]+res\n",
    "print(res)\n",
    "mid=len(res)//2\n",
    "val=res[mid]\n",
    "i=1\n",
    "sum=0\n",
    "while i<val:\n",
    "    if val%i==0:\n",
    "        sum=sum+i\n",
    "    i=i+1\n",
    "print(sum)\n",
    "if sum==val:\n",
    "    print(\"it is perfect\")\n",
    "else:\n",
    "    print(\"not perfect\")\n"
   ]
  },
  {
   "cell_type": "code",
   "execution_count": 18,
   "metadata": {},
   "outputs": [
    {
     "name": "stdout",
     "output_type": "stream",
     "text": [
      "[2, 4, 5, 6, 7, 8]\n"
     ]
    }
   ],
   "source": [
    "l=[2,2,4,5,6,6,7,8]\n",
    "res=[]\n",
    "for i in l:\n",
    "    if i in res:\n",
    "        res=res\n",
    "    else:\n",
    "        res=res+[i]\n",
    "print(res)"
   ]
  },
  {
   "cell_type": "code",
   "execution_count": 20,
   "metadata": {},
   "outputs": [
    {
     "name": "stdout",
     "output_type": "stream",
     "text": [
      "[8, 7, 6, 5, 4, 2]\n"
     ]
    }
   ],
   "source": [
    "l=[2,2,4,5,6,6,7,8]\n",
    "res=[]\n",
    "for i in l:\n",
    "    if i not in res:\n",
    "        res=res+[i]\n",
    "res1=[]\n",
    "for i in res:\n",
    "    res1=[i]+res1\n",
    "\n",
    "print(res1)"
   ]
  },
  {
   "cell_type": "code",
   "execution_count": 35,
   "metadata": {},
   "outputs": [
    {
     "ename": "TypeError",
     "evalue": "'int' object is not callable",
     "output_type": "error",
     "traceback": [
      "\u001b[1;31m---------------------------------------------------------------------------\u001b[0m",
      "\u001b[1;31mTypeError\u001b[0m                                 Traceback (most recent call last)",
      "Cell \u001b[1;32mIn[35], line 6\u001b[0m\n\u001b[0;32m      4\u001b[0m     \u001b[38;5;28;01mif\u001b[39;00m i \u001b[38;5;129;01mnot\u001b[39;00m \u001b[38;5;129;01min\u001b[39;00m res:\n\u001b[0;32m      5\u001b[0m         res\u001b[38;5;241m=\u001b[39mres\u001b[38;5;241m+\u001b[39m[i]\n\u001b[1;32m----> 6\u001b[0m \u001b[38;5;28;01mif\u001b[39;00m \u001b[38;5;28;43mlen\u001b[39;49m\u001b[43m(\u001b[49m\u001b[43mres\u001b[49m\u001b[43m)\u001b[49m\u001b[38;5;241m%\u001b[39m\u001b[38;5;241m2\u001b[39m\u001b[38;5;241m==\u001b[39m\u001b[38;5;241m0\u001b[39m:\n\u001b[0;32m      7\u001b[0m     \u001b[38;5;28mprint\u001b[39m(\u001b[38;5;124m\"\u001b[39m\u001b[38;5;124mlenth of list is even\u001b[39m\u001b[38;5;124m\"\u001b[39m)\n\u001b[0;32m      8\u001b[0m \u001b[38;5;28;01melse\u001b[39;00m:\n",
      "\u001b[1;31mTypeError\u001b[0m: 'int' object is not callable"
     ]
    }
   ],
   "source": [
    "l=[2,2,4,5,6,6,7]\n",
    "res=[]\n",
    "for i in l:\n",
    "    if i not in res:\n",
    "        res=res+[i]\n",
    "if len(res)%2==0:\n",
    "    print(\"lenth of list is even\")\n",
    "else:\n",
    "    print(\"lenth of list is odd\")"
   ]
  },
  {
   "cell_type": "code",
   "execution_count": 41,
   "metadata": {},
   "outputs": [
    {
     "ename": "TypeError",
     "evalue": "'int' object is not callable",
     "output_type": "error",
     "traceback": [
      "\u001b[1;31m---------------------------------------------------------------------------\u001b[0m",
      "\u001b[1;31mTypeError\u001b[0m                                 Traceback (most recent call last)",
      "Cell \u001b[1;32mIn[41], line 6\u001b[0m\n\u001b[0;32m      4\u001b[0m     \u001b[38;5;28;01mif\u001b[39;00m i \u001b[38;5;129;01mnot\u001b[39;00m \u001b[38;5;129;01min\u001b[39;00m res:\n\u001b[0;32m      5\u001b[0m         res\u001b[38;5;241m=\u001b[39mres\u001b[38;5;241m+\u001b[39m[i]\n\u001b[1;32m----> 6\u001b[0m \u001b[38;5;28;01mif\u001b[39;00m \u001b[38;5;28;43mlen\u001b[39;49m\u001b[43m(\u001b[49m\u001b[43mres\u001b[49m\u001b[43m)\u001b[49m\u001b[38;5;241m%\u001b[39m\u001b[38;5;241m2\u001b[39m\u001b[38;5;241m==\u001b[39m\u001b[38;5;241m0\u001b[39m:\n\u001b[0;32m      7\u001b[0m     \u001b[38;5;28mprint\u001b[39m(\u001b[38;5;124m\"\u001b[39m\u001b[38;5;124mlenth of list is even\u001b[39m\u001b[38;5;124m\"\u001b[39m)\n\u001b[0;32m      8\u001b[0m \u001b[38;5;28;01melse\u001b[39;00m:\n",
      "\u001b[1;31mTypeError\u001b[0m: 'int' object is not callable"
     ]
    }
   ],
   "source": [
    "l=[2,2,4,5,6,6,7]\n",
    "res=[]\n",
    "for i in l:\n",
    "    if i not in res:\n",
    "        res=res+[i]\n",
    "if len(res)%2==0:\n",
    "    print(\"lenth of list is even\")\n",
    "else:\n",
    "    print(\"lenth of list is odd\")"
   ]
  },
  {
   "cell_type": "code",
   "execution_count": 44,
   "metadata": {},
   "outputs": [
    {
     "name": "stdout",
     "output_type": "stream",
     "text": [
      "prime number\n"
     ]
    }
   ],
   "source": [
    "l=[2,2,4,5,6,6,7]\n",
    "res=[]\n",
    "c1=0\n",
    "for i in l:\n",
    "    if i not in res:\n",
    "        res=res+[i]\n",
    "for i in res:\n",
    "    c1+=1\n",
    "i=1\n",
    "count=0\n",
    "while i<=c1:\n",
    "    if c1%i==0:\n",
    "        count+=1\n",
    "    i=i+1\n",
    "if count==2:\n",
    "    print(\"prime number\")\n",
    "else:\n",
    "    print(\"not prime\")"
   ]
  },
  {
   "cell_type": "code",
   "execution_count": 2,
   "metadata": {},
   "outputs": [
    {
     "name": "stdout",
     "output_type": "stream",
     "text": [
      "odd 7\n"
     ]
    }
   ],
   "source": [
    "def num():\n",
    "    n=int(input())\n",
    "    if n%2==0:\n",
    "        print(\"even\",n)\n",
    "    else:\n",
    "        print(\"odd\",n)\n",
    "num()"
   ]
  },
  {
   "cell_type": "code",
   "execution_count": 5,
   "metadata": {},
   "outputs": [
    {
     "name": "stdout",
     "output_type": "stream",
     "text": [
      "not perfect\n"
     ]
    }
   ],
   "source": [
    "def num():\n",
    "    n=int(input())\n",
    "    i=1\n",
    "    sum=0\n",
    "    while i<n:\n",
    "        if n%i==0:\n",
    "            sum+=i\n",
    "        i=i+1\n",
    "    if sum==n:\n",
    "        print(\"perfect\")\n",
    "    else:\n",
    "        print(\"not perfect\")\n",
    "num()"
   ]
  },
  {
   "cell_type": "code",
   "execution_count": 7,
   "metadata": {},
   "outputs": [
    {
     "name": "stdout",
     "output_type": "stream",
     "text": [
      "6 not prime\n"
     ]
    }
   ],
   "source": [
    "def num():\n",
    "    n=int(input())\n",
    "    c=0\n",
    "    i=1\n",
    "    while i<=n:\n",
    "        if n%i==0:\n",
    "            c+=1\n",
    "        i=i+1\n",
    "    if c==2:\n",
    "        print(n,\"prime\")\n",
    "    else:\n",
    "        print(n,\"not prime\")\n",
    "num()"
   ]
  },
  {
   "cell_type": "code",
   "execution_count": 5,
   "metadata": {},
   "outputs": [
    {
     "name": "stdout",
     "output_type": "stream",
     "text": [
      "1\n",
      "2\n",
      "3\n",
      "4\n",
      "5\n",
      "6\n",
      "7\n",
      "8\n",
      "9\n",
      "153\n",
      "370\n",
      "371\n",
      "407\n"
     ]
    }
   ],
   "source": [
    "def amstrong(i,n):\n",
    "    while i<=n:\n",
    "        n1=i\n",
    "        n2=i\n",
    "        c=0\n",
    "        s=0\n",
    "        while n1>0:\n",
    "            c=c+1\n",
    "            n1=n1//10\n",
    "        while n2>0:\n",
    "            dig=n2%10\n",
    "            s=s+dig**c\n",
    "            n2=n2//10\n",
    "        if s==i:\n",
    "            print(i)\n",
    "        i=i+1\n",
    "amstrong(1,1000)"
   ]
  },
  {
   "cell_type": "code",
   "execution_count": null,
   "metadata": {},
   "outputs": [],
   "source": []
  }
 ],
 "metadata": {
  "kernelspec": {
   "display_name": "Python 3",
   "language": "python",
   "name": "python3"
  },
  "language_info": {
   "codemirror_mode": {
    "name": "ipython",
    "version": 3
   },
   "file_extension": ".py",
   "mimetype": "text/x-python",
   "name": "python",
   "nbconvert_exporter": "python",
   "pygments_lexer": "ipython3",
   "version": "3.12.2"
  }
 },
 "nbformat": 4,
 "nbformat_minor": 2
}
