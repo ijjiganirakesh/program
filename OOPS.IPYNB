{
 "cells": [
  {
   "cell_type": "code",
   "execution_count": 2,
   "metadata": {},
   "outputs": [
    {
     "name": "stdout",
     "output_type": "stream",
     "text": [
      "<__main__.employee object at 0x0000023F46562B70>\n",
      "150000\n"
     ]
    }
   ],
   "source": [
    "class employee:\n",
    "    def __init__(self,name,sal):\n",
    "        self.name=name\n",
    "        self.sal=sal\n",
    "    def __add__(self,newobject):\n",
    "        return self.sal+newobject.sal\n",
    "e1=employee(\"ramu\",100000)\n",
    "e2=employee(\"prudhvi\",50000)\n",
    "print(e1)\n",
    "print(e1+e2)"
   ]
  },
  {
   "cell_type": "code",
   "execution_count": 26,
   "metadata": {},
   "outputs": [
    {
     "name": "stdout",
     "output_type": "stream",
     "text": [
      "150000\n",
      "ramu\n"
     ]
    }
   ],
   "source": [
    "class employee:\n",
    "    def __init__(self,name,sal):\n",
    "        self.name=name\n",
    "        self.sal=sal\n",
    "    def __add__(self,newobject):\n",
    "        return self.sal+newobject.sal\n",
    "    def __str__(self):\n",
    "        return self.name\n",
    "e1=employee(\"ramu\",100000)\n",
    "e2=employee(\"prudhvi\",50000)\n",
    "e3=employee(\"ramesh\",20000)\n",
    "print(e1+e2)\n",
    "print(e1)\n"
   ]
  },
  {
   "cell_type": "code",
   "execution_count": 46,
   "metadata": {},
   "outputs": [
    {
     "name": "stdout",
     "output_type": "stream",
     "text": [
      "9000\n",
      "3000\n",
      "18000000\n",
      "2\n",
      "2.0\n",
      "0\n",
      "25\n",
      "(2, 0)\n"
     ]
    }
   ],
   "source": [
    "# Arithmetic operators\n",
    "class employee:\n",
    "    def __init__(self,name,sal):\n",
    "        self.name=name\n",
    "        self.sal=sal\n",
    "    def __add__(self,newobject):\n",
    "        return self.sal+newobject.sal\n",
    "    def __sub__(self,newobject):\n",
    "        return self.sal-newobject.sal\n",
    "    def __mul__(self,other):\n",
    "        return self.sal*other.sal\n",
    "    def __floordiv__(self,other):\n",
    "        return self.sal//other.sal\n",
    "    def __truediv__(self,other):\n",
    "        return self.sal/other.sal\n",
    "    def __mod__(self,other):\n",
    "        return self.sal%other.sal\n",
    "    def __pow__(self,other):\n",
    "        return self.sal**other.sal\n",
    "    def __divmod__(self,other):\n",
    "        return divmod(self.sal,other.sal)\n",
    "e1=employee(\"ramu\",6000)\n",
    "e2=employee(\"prudhvi\",3000)\n",
    "e3=employee(\"ravi\",5)\n",
    "e4=employee(\"kumar\",2)\n",
    "print(e1+e2)\n",
    "print(e1-e2)\n",
    "print(e1*e2)\n",
    "print(e1//e2)\n",
    "print(e1/e2)\n",
    "print(e1%e2)\n",
    "print(e3**e4)\n",
    "print(divmod(e1,e2))\n"
   ]
  },
  {
   "cell_type": "code",
   "execution_count": 45,
   "metadata": {},
   "outputs": [
    {
     "name": "stdout",
     "output_type": "stream",
     "text": [
      "False\n",
      "True\n",
      "True\n",
      "False\n",
      "True\n",
      "False\n"
     ]
    }
   ],
   "source": [
    "# Comparison operetors\n",
    "class employee:\n",
    "    def __init__(self,name,sal):\n",
    "        self.name=name\n",
    "        self.sal=sal\n",
    "    def __eq__(self,other):\n",
    "        return self.sal==other.sal\n",
    "    def __ne__(self,other):\n",
    "        return self.sal!=other.sal\n",
    "    def __lt__(self,other):\n",
    "        return self.sal<other.sal\n",
    "    def __gt__(self,other):\n",
    "        return self.sal>other.sal\n",
    "    def __le__(self,other):\n",
    "        return self.sal<=other.sal\n",
    "    def __ge__(self,other):\n",
    "        return self.sal>=other.sal\n",
    "e1=employee(\"karthik\",200)\n",
    "e2=employee(\"siva\",300)\n",
    "print(e1==e2)\n",
    "print(e1!=e2)\n",
    "print(e1<e2)\n",
    "print(e1>e2)\n",
    "print(e1<=e2)\n",
    "print(e1>=e2)\n"
   ]
  },
  {
   "cell_type": "code",
   "execution_count": 2,
   "metadata": {},
   "outputs": [
    {
     "name": "stdout",
     "output_type": "stream",
     "text": [
      "2\n",
      "1\n"
     ]
    }
   ],
   "source": [
    "i=2\n",
    "while 0<i:\n",
    "    print(i)\n",
    "    i=i-1"
   ]
  },
  {
   "cell_type": "code",
   "execution_count": 5,
   "metadata": {},
   "outputs": [
    {
     "name": "stdout",
     "output_type": "stream",
     "text": [
      "1\n",
      "3\n",
      "5\n",
      "7\n",
      "9\n",
      "11\n",
      "13\n",
      "15\n",
      "17\n",
      "19\n"
     ]
    }
   ],
   "source": [
    "def fun(num):\n",
    "    c=num\n",
    "    i=1\n",
    "    while c>0:\n",
    "        while i>0:\n",
    "            if i%2==1:\n",
    "                c=c-1\n",
    "                print(i)\n",
    "            i=i+1\n",
    "            break\n",
    "fun(10)\n",
    "\n",
    "\n",
    "\n",
    "\n",
    "\n"
   ]
  },
  {
   "cell_type": "code",
   "execution_count": 7,
   "metadata": {},
   "outputs": [
    {
     "name": "stdout",
     "output_type": "stream",
     "text": [
      "1\n",
      "2\n",
      "3\n",
      "4\n",
      "6\n"
     ]
    }
   ],
   "source": [
    "num=12\n",
    "i=1\n",
    "while i<=6:\n",
    "    if 12%i==0:\n",
    "        print(i)\n",
    "    i=i+1"
   ]
  },
  {
   "cell_type": "code",
   "execution_count": 8,
   "metadata": {},
   "outputs": [
    {
     "name": "stdout",
     "output_type": "stream",
     "text": [
      "7\n"
     ]
    }
   ],
   "source": [
    "num=14\n",
    "i=1\n",
    "count=0\n",
    "while i<=num:\n",
    "    if i%2==1:\n",
    "        count+=1\n",
    "    i=i+1\n",
    "print(count)"
   ]
  },
  {
   "cell_type": "code",
   "execution_count": 14,
   "metadata": {},
   "outputs": [
    {
     "name": "stdout",
     "output_type": "stream",
     "text": [
      "3\n"
     ]
    }
   ],
   "source": [
    "n1=12\n",
    "n2=9\n",
    "i=1\n",
    "gcd=1\n",
    "while i<=n1 and i<=n2:\n",
    "    if n1%i==0 and n2%i==0:\n",
    "        gcd=i\n",
    "    i=i+1\n",
    "print(gcd)"
   ]
  },
  {
   "cell_type": "code",
   "execution_count": 19,
   "metadata": {},
   "outputs": [
    {
     "name": "stdout",
     "output_type": "stream",
     "text": [
      "60\n"
     ]
    }
   ],
   "source": [
    "num=10\n",
    "num2=12\n",
    "i=1 \n",
    "v=True\n",
    "while v:\n",
    "    if i%num==0 and i%num2==0:\n",
    "        print(i)\n",
    "        v=False\n",
    "    i=i+1\n",
    "\n"
   ]
  },
  {
   "cell_type": "code",
   "execution_count": 22,
   "metadata": {},
   "outputs": [
    {
     "name": "stdout",
     "output_type": "stream",
     "text": [
      " rakesh is this hello\n"
     ]
    }
   ],
   "source": [
    "str=\"hello this is rakesh\"\n",
    "res=[ ]\n",
    "rev=\" \"\n",
    "for a in str:\n",
    "    if a==\" \":\n",
    "        res.append(rev)\n",
    "        rev=\" \"\n",
    "    else:\n",
    "        rev=rev+a\n",
    "res.append(rev)\n",
    "result=\"\"\n",
    "for i in res:\n",
    "    result=i+\"\"+result\n",
    "\n",
    "print(result)\n"
   ]
  },
  {
   "cell_type": "code",
   "execution_count": 23,
   "metadata": {},
   "outputs": [
    {
     "name": "stdout",
     "output_type": "stream",
     "text": [
      " student  favorite  your  of  one  rakesh  the  is  this hello \n"
     ]
    }
   ],
   "source": [
    "str=\"hello this is the rakesh one of your favorite student\"\n",
    "l=[]\n",
    "s=\"\"\n",
    "for i in str:\n",
    "    if i==\" \":\n",
    "        l.append(s)\n",
    "        s=\" \"\n",
    "    else:\n",
    "        s=s+i\n",
    "l.append(s)\n",
    "r=\"\"\n",
    "for j in l:\n",
    "    r=j+\" \"+r\n",
    "print(r)"
   ]
  }
 ],
 "metadata": {
  "kernelspec": {
   "display_name": "Python 3",
   "language": "python",
   "name": "python3"
  },
  "language_info": {
   "codemirror_mode": {
    "name": "ipython",
    "version": 3
   },
   "file_extension": ".py",
   "mimetype": "text/x-python",
   "name": "python",
   "nbconvert_exporter": "python",
   "pygments_lexer": "ipython3",
   "version": "3.12.2"
  }
 },
 "nbformat": 4,
 "nbformat_minor": 2
}
