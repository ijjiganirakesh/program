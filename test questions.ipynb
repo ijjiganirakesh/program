{
 "cells": [
  {
   "cell_type": "code",
   "execution_count": 10,
   "metadata": {},
   "outputs": [
    {
     "name": "stdout",
     "output_type": "stream",
     "text": [
      "prime digits: 2\n",
      "prime digits: 7\n",
      "prime digits: 5\n",
      "prime digits: 7\n",
      "prime digits: 2\n",
      "5\n"
     ]
    }
   ],
   "source": [
    "#count the prime numbers\n",
    "n= int(input())\n",
    "count1=0\n",
    "while n>0:\n",
    "    i=1\n",
    "    count=0\n",
    "    digit=n%10\n",
    "    while i<=digit:\n",
    "        if digit%i==0:\n",
    "            count=count+1\n",
    "        i=i+1\n",
    "    if count==2:\n",
    "        count1=count1+1\n",
    "        print(\"prime digits:\",digit)\n",
    "    count=0\n",
    "    n=n//10\n",
    "print(count1)\n",
    "\n"
   ]
  },
  {
   "cell_type": "code",
   "execution_count": 14,
   "metadata": {},
   "outputs": [
    {
     "name": "stdout",
     "output_type": "stream",
     "text": [
      "22\n",
      "4\n",
      "it is amstrong number\n"
     ]
    }
   ],
   "source": [
    "#product amstrong or not\n",
    "n=int(input())\n",
    "pro=1\n",
    "count=0\n",
    "sum=0\n",
    "print(n)\n",
    "while n>0:\n",
    "    digit=n%10\n",
    "    pro=pro*digit\n",
    "    n=n//10\n",
    "p1=pro\n",
    "p2=pro\n",
    "print(pro)\n",
    "while p1>0:\n",
    "    count=count+1\n",
    "    p1=p1//10\n",
    "   \n",
    "while p2>0:\n",
    "    digit1=p2%10\n",
    "    z=digit1**count\n",
    "    sum=sum+z\n",
    "    p2=p2//10\n",
    "if pro ==sum:\n",
    "    print(\"it is amstrong number\")\n",
    "else:\n",
    "    print(\"not amstrong number\")"
   ]
  },
  {
   "cell_type": "code",
   "execution_count": 15,
   "metadata": {},
   "outputs": [
    {
     "name": "stdout",
     "output_type": "stream",
     "text": [
      "strong\n",
      "palindrom\n"
     ]
    }
   ],
   "source": [
    "#count strong and palindrom or not\n",
    "n=int(input())\n",
    "y=n\n",
    "sum=0\n",
    "count=0\n",
    "while n>0:\n",
    "    count=count+1\n",
    "    n=n//10\n",
    "x=count\n",
    "while x>0:\n",
    "    i=1\n",
    "    f=1\n",
    "    d=x%10\n",
    "    while i<=d:\n",
    "        f=f*i\n",
    "        i=i+1\n",
    "    x=x//10\n",
    "    sum=sum+f\n",
    "if sum==count:\n",
    "    print(\"strong\")\n",
    "else:\n",
    "    print(\" not strong\")\n",
    "while y>0:\n",
    "    digit =y%100\n",
    "    z=digit\n",
    "    y=y//100\n",
    "rev=0\n",
    "while z>0:\n",
    "    r=z%10\n",
    "    rev=rev*10+r\n",
    "    z=z//10\n",
    "if digit==rev:\n",
    "    print(\"palindrom\")\n",
    "else:\n",
    "    print(\"not palindrom\")\n",
    "\n",
    "\n",
    "        "
   ]
  },
  {
   "cell_type": "code",
   "execution_count": 20,
   "metadata": {},
   "outputs": [
    {
     "name": "stdout",
     "output_type": "stream",
     "text": [
      "89764553289\n",
      "22\n",
      "it is spy number\n"
     ]
    }
   ],
   "source": [
    "#prime sum spy or not\n",
    "n= int(input())\n",
    "count1=0\n",
    "sum=0\n",
    "print(n)\n",
    "while n>0:\n",
    "    i=1\n",
    "    count=0\n",
    "    digit=n%10\n",
    "    while i<=digit:\n",
    "        if digit%i==0:\n",
    "            count=count+1\n",
    "        i=i+1\n",
    "    if count==2:\n",
    "        sum=sum+digit\n",
    "    n=n//10\n",
    "print(sum)\n",
    "x=sum\n",
    "s1=0\n",
    "p1=1\n",
    "while sum>0:\n",
    "    digit1=sum%10\n",
    "    s1=s1+digit1\n",
    "    sum=sum//10\n",
    "while x>0:\n",
    "    dig=x%10\n",
    "    p1=p1*dig\n",
    "    x=x//10\n",
    "if s1==p1:\n",
    "    print(\"it is spy number\")\n",
    "else:\n",
    "    print(\"it is not a spy number\")"
   ]
  },
  {
   "cell_type": "code",
   "execution_count": 20,
   "metadata": {},
   "outputs": [
    {
     "name": "stdout",
     "output_type": "stream",
     "text": [
      "96\n",
      "11\n",
      "palindrom 11 11\n"
     ]
    }
   ],
   "source": [
    "#factours count palindrom or not\n",
    "n=int(input())\n",
    "i=1\n",
    "count=0\n",
    "print(n)\n",
    "while i<n:\n",
    "    if n%i==0:\n",
    "        count=count+1\n",
    "    i=i+1\n",
    "print(count)\n",
    "x=count\n",
    "rev=0\n",
    "while x>0:\n",
    "    r=x%10\n",
    "    rev=rev*10+r\n",
    "    x=x//10\n",
    "if count==rev:\n",
    "    print(\"palindrom\",count,rev)\n",
    "else:\n",
    "    print(\"not palindrom\",count,rev)"
   ]
  },
  {
   "cell_type": "code",
   "execution_count": 24,
   "metadata": {},
   "outputs": [
    {
     "name": "stdout",
     "output_type": "stream",
     "text": [
      "452\n",
      "2 prime\n"
     ]
    }
   ],
   "source": [
    "#last number factorial prime or not\n",
    "n=int(input())\n",
    "print(n)\n",
    "digit=n%10\n",
    "i=1\n",
    "f=1\n",
    "while i<=digit:\n",
    "        f=f*i\n",
    "        i=i+1\n",
    "x=f\n",
    "i=1\n",
    "count=0\n",
    "while i<=x:\n",
    "     if x%i==0:\n",
    "          count=count+1\n",
    "     i=i+1\n",
    "if count==2:\n",
    "    print(f,\"prime\")\n",
    "else:\n",
    "    print(f,\"not prime\")"
   ]
  },
  {
   "cell_type": "code",
   "execution_count": 25,
   "metadata": {},
   "outputs": [
    {
     "name": "stdout",
     "output_type": "stream",
     "text": [
      "13 prime number\n",
      "31 prime number\n"
     ]
    }
   ],
   "source": [
    "#twisted prime number\n",
    "n=int(input())\n",
    "x=n\n",
    "i=1\n",
    "c=0\n",
    "while i<=n:\n",
    "    if n%i==0:\n",
    "        c+=1\n",
    "    i=i+1\n",
    "if c==2:\n",
    "    print(n,\"prime number\")\n",
    "else:\n",
    "    print(n,\"not prime\")\n",
    "rev=0\n",
    "c=0\n",
    "i=1\n",
    "while x>0:\n",
    "    r=x%10\n",
    "    rev=rev*10+r\n",
    "    x=x//10\n",
    "while i<=rev:\n",
    "    if rev%i==0:\n",
    "        c+=1\n",
    "    i+=1\n",
    "if c==2:\n",
    "    print(rev,\"prime number\")\n",
    "else:\n",
    "    print(rev,\"not prime number\")\n"
   ]
  },
  {
   "cell_type": "code",
   "execution_count": 14,
   "metadata": {},
   "outputs": [
    {
     "name": "stdout",
     "output_type": "stream",
     "text": [
      "200000\n",
      "it is a duck number\n"
     ]
    }
   ],
   "source": [
    "#duck number\n",
    "n=int(input())\n",
    "x=n\n",
    "count=0\n",
    "print(n)\n",
    "while n>0:\n",
    "    count=count+1\n",
    "    n=n//10\n",
    "y=count\n",
    "while x>0:\n",
    "    digit=x%10\n",
    "    if y==1:\n",
    "        if x==0:\n",
    "            print(\"it is not duck number\")\n",
    "        else:\n",
    "            print(\"it is a duck number\")\n",
    "    x=x//10\n",
    "    y=y-1\n"
   ]
  },
  {
   "cell_type": "code",
   "execution_count": 29,
   "metadata": {},
   "outputs": [
    {
     "name": "stdout",
     "output_type": "stream",
     "text": [
      "enter the number: 20\n",
      "2\n",
      "3\n",
      "5\n",
      "7\n",
      "11\n",
      "13\n",
      "17\n",
      "19\n"
     ]
    }
   ],
   "source": [
    "#prime numbers b/w given number\n",
    "n=int(input())\n",
    "print(\"enter the number:\",n)\n",
    "i=1\n",
    "while i<=n:\n",
    "    count=0\n",
    "    j=1\n",
    "    while j<=i:\n",
    "        if i%j==0:\n",
    "            count=count+1\n",
    "        j=j+1\n",
    "    if count==2:\n",
    "        print(i)\n",
    "    i+=1"
   ]
  },
  {
   "cell_type": "code",
   "execution_count": 6,
   "metadata": {},
   "outputs": [
    {
     "name": "stdout",
     "output_type": "stream",
     "text": [
      "not strong password\n"
     ]
    }
   ],
   "source": [
    "st=input()\n",
    "c=0\n",
    "c1=0\n",
    "c2=0\n",
    "c3=0\n",
    "for i in st:\n",
    "    if len(st)>=8:\n",
    "        if \"a\"<=i<=\"z\":\n",
    "            c=c+1\n",
    "        elif \"A\"<=i<=\"Z\":\n",
    "            c1=c1+1\n",
    "        elif \"0\"<=i<=\"9\":\n",
    "            c2=c2+1\n",
    "        else:\n",
    "            c3=c3+1\n",
    "if (c>=1 and c1>=1 and c2>=1 and c3>=1):\n",
    "    print( st,\" strong password\")\n",
    "else:\n",
    "    print(st,\"not strong password\")"
   ]
  },
  {
   "cell_type": "code",
   "execution_count": 2,
   "metadata": {},
   "outputs": [
    {
     "name": "stdout",
     "output_type": "stream",
     "text": [
      "abAD@123  ABad@123\n"
     ]
    }
   ],
   "source": [
    "st=input()\n",
    "res=\" \"\n",
    "for i in st:\n",
    "    if \"a\"<=i<=\"z\":\n",
    "        j=chr(ord(i)-32)\n",
    "        res=res+j \n",
    "    elif \"A\"<=i<=\"Z\":\n",
    "        k=chr(ord(i)+32)\n",
    "        res=res+k\n",
    "    else:\n",
    "        res=res+i\n",
    "print(st,res)      \n",
    "        "
   ]
  },
  {
   "cell_type": "code",
   "execution_count": 5,
   "metadata": {},
   "outputs": [
    {
     "name": "stdout",
     "output_type": "stream",
     "text": [
      "AbcdE  abcde\n"
     ]
    }
   ],
   "source": [
    "st=input()\n",
    "res=\" \"\n",
    "for i in st:\n",
    "    if i in \"aeiouAEIOU\":\n",
    "        if \"a\"<=i<=\"z\":\n",
    "            j=chr(ord(i)-32)\n",
    "            res=res+j \n",
    "        elif \"A\"<=i<=\"Z\":\n",
    "            k=chr(ord(i)+32)\n",
    "            res=res+k\n",
    "    else:\n",
    "        res=res+i\n",
    "print(st,res)      \n",
    "        "
   ]
  },
  {
   "cell_type": "code",
   "execution_count": null,
   "metadata": {},
   "outputs": [],
   "source": []
  }
 ],
 "metadata": {
  "kernelspec": {
   "display_name": "Python 3",
   "language": "python",
   "name": "python3"
  },
  "language_info": {
   "codemirror_mode": {
    "name": "ipython",
    "version": 3
   },
   "file_extension": ".py",
   "mimetype": "text/x-python",
   "name": "python",
   "nbconvert_exporter": "python",
   "pygments_lexer": "ipython3",
   "version": "3.12.2"
  }
 },
 "nbformat": 4,
 "nbformat_minor": 2
}
