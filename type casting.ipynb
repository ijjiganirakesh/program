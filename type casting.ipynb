{
 "cells": [
  {
   "cell_type": "code",
   "execution_count": 6,
   "metadata": {},
   "outputs": [
    {
     "name": "stdout",
     "output_type": "stream",
     "text": [
      "10\n",
      "10.0\n",
      "(10+0j)\n",
      "True\n",
      "10\n"
     ]
    },
    {
     "ename": "TypeError",
     "evalue": "'int' object is not iterable",
     "output_type": "error",
     "traceback": [
      "\u001b[1;31m---------------------------------------------------------------------------\u001b[0m",
      "\u001b[1;31mTypeError\u001b[0m                                 Traceback (most recent call last)",
      "Cell \u001b[1;32mIn[6], line 7\u001b[0m\n\u001b[0;32m      5\u001b[0m \u001b[38;5;28mprint\u001b[39m(\u001b[38;5;28mbool\u001b[39m(a))\n\u001b[0;32m      6\u001b[0m \u001b[38;5;28mprint\u001b[39m(\u001b[38;5;28mstr\u001b[39m(a))\n\u001b[1;32m----> 7\u001b[0m \u001b[38;5;28mprint\u001b[39m(\u001b[38;5;28;43mlist\u001b[39;49m\u001b[43m(\u001b[49m\u001b[43ma\u001b[49m\u001b[43m)\u001b[49m)\n",
      "\u001b[1;31mTypeError\u001b[0m: 'int' object is not iterable"
     ]
    }
   ],
   "source": [
    "a=10\n",
    "print(a)\n",
    "print(float(a))\n",
    "print(complex(a))\n",
    "print(bool(a))\n",
    "print(str(a))\n",
    "#print(list(a))\n"
   ]
  },
  {
   "cell_type": "code",
   "execution_count": null,
   "metadata": {},
   "outputs": [],
   "source": []
  },
  {
   "cell_type": "code",
   "execution_count": 13,
   "metadata": {},
   "outputs": [
    {
     "name": "stdout",
     "output_type": "stream",
     "text": [
      "10.0\n",
      "10\n",
      "True\n",
      "(10+0j)\n",
      "10.0\n"
     ]
    }
   ],
   "source": [
    "a=10.0\n",
    "print(a)\n",
    "print(int(a))\n",
    "print(bool(a))\n",
    "print(complex(a))\n",
    "print(str(a))\n",
    "\n",
    "\n"
   ]
  },
  {
   "cell_type": "code",
   "execution_count": 10,
   "metadata": {},
   "outputs": [
    {
     "name": "stdout",
     "output_type": "stream",
     "text": [
      "james\n",
      "frank\n",
      "[100, 200]\n",
      "meas\n",
      "23\n",
      "rat\n",
      "RCB\n",
      "BCR\n"
     ]
    }
   ],
   "source": [
    "\n",
    "l = [\"james franklin\",[100,200,\"rohit\"],{\"name\":\"meason\",\"age\":23},\"virat\",\"RCB\"]\n",
    "print(l[0][0:5])\n",
    "print(l[0][6:11])\n",
    "print(l[1][0:2])\n",
    "print(l[2][\"name\"][0:4])\n",
    "print(l[2][\"age\"])\n",
    "print(l[3][2:])\n",
    "print(l[4])\n",
    "print(l[4][::-1])"
   ]
  },
  {
   "cell_type": "code",
   "execution_count": 3,
   "metadata": {},
   "outputs": [
    {
     "name": "stdout",
     "output_type": "stream",
     "text": [
      "Binary value:  11111\n"
     ]
    }
   ],
   "source": [
    "num = int(input(\"Enter a number: \"))\n",
    "b = 0\n",
    "p = 1\n",
    "n = num\n",
    "\n",
    "while n>0:\n",
    "    rem = n%2\n",
    "    b += rem * p\n",
    "    p = p*10\n",
    "    n = n//2\n",
    "\n",
    "print(\"Binary value: \",b)"
   ]
  },
  {
   "cell_type": "code",
   "execution_count": 3,
   "metadata": {},
   "outputs": [
    {
     "name": "stdout",
     "output_type": "stream",
     "text": [
      "3.0\n"
     ]
    }
   ],
   "source": [
    "\n",
    "sum=0\n",
    "count=0\n",
    "i=1\n",
    "while i<=5:\n",
    "    count+=1\n",
    "    sum+=i\n",
    "    i+=1\n",
    "average=sum/count\n",
    "print(average)"
   ]
  },
  {
   "cell_type": "code",
   "execution_count": 7,
   "metadata": {},
   "outputs": [
    {
     "name": "stdout",
     "output_type": "stream",
     "text": [
      "50\n"
     ]
    }
   ],
   "source": [
    "n = int(input(\"Enter an integer: \"))\n",
    "\n",
    "i = 1\n",
    "while i <= 10:\n",
    "    mul = i*n\n",
    "    i += 1\n",
    "print(mul)"
   ]
  },
  {
   "cell_type": "code",
   "execution_count": 3,
   "metadata": {},
   "outputs": [
    {
     "name": "stdout",
     "output_type": "stream",
     "text": [
      "3.5\n"
     ]
    }
   ],
   "source": [
    "i =2\n",
    "s =0\n",
    "count=0\n",
    "while i<=5:\n",
    "    count+=1\n",
    "    s =s+i\n",
    "    i+=1\n",
    "avg=s/count\n",
    "print(avg)"
   ]
  },
  {
   "cell_type": "code",
   "execution_count": 8,
   "metadata": {},
   "outputs": [
    {
     "name": "stdout",
     "output_type": "stream",
     "text": [
      "Reversed number: 652\n"
     ]
    }
   ],
   "source": [
    "n = int(input(\"Enter a number: \"))\n",
    "rev = 0\n",
    "\n",
    "while n!=0:\n",
    "    r = n%10\n",
    "    rev = rev * 10 + r\n",
    "    n = n//10\n",
    "    \n",
    "print(\"Reversed number:\",rev)"
   ]
  },
  {
   "cell_type": "code",
   "execution_count": 10,
   "metadata": {},
   "outputs": [],
   "source": [
    "n=525\n",
    "rev=0\n",
    "while n!=0:\n",
    "    r =n%10\n",
    "    rev = rev * 10 + r\n",
    "    n = n//10\n",
    "if  n==rev:\n",
    "    print(\"palindrom\")\n"
   ]
  },
  {
   "cell_type": "code",
   "execution_count": 12,
   "metadata": {},
   "outputs": [
    {
     "name": "stdout",
     "output_type": "stream",
     "text": [
      "not perfect\n"
     ]
    }
   ],
   "source": [
    "n=int(input())\n",
    "i=1\n",
    "sum=0\n",
    "while i<n:\n",
    "    if n%i==0:\n",
    "        sum=sum+i\n",
    "    i=i+1\n",
    "if n==sum:\n",
    "    print(\"perfect number\")\n",
    "else:\n",
    "    print(\"not perfect\")"
   ]
  },
  {
   "cell_type": "code",
   "execution_count": null,
   "metadata": {},
   "outputs": [],
   "source": [
    "n=int(input())\n",
    "i=1\n",
    "sum=0\n",
    "while i<n:\n",
    "    if n%i==0:\n",
    "        sum=sum+i\n",
    "    i=i+1\n",
    "if                                                                                                                                                                                                                                                                                                                                                                                        "
   ]
  },
  {
   "cell_type": "code",
   "execution_count": 2,
   "metadata": {},
   "outputs": [
    {
     "name": "stdout",
     "output_type": "stream",
     "text": [
      "120\n"
     ]
    }
   ],
   "source": [
    "n=int(input())\n",
    "f=n\n",
    "r=1\n",
    "while f!=0:\n",
    "    r*=f\n",
    "    f-=1\n",
    "print(r)"
   ]
  },
  {
   "cell_type": "code",
   "execution_count": 4,
   "metadata": {},
   "outputs": [
    {
     "name": "stdout",
     "output_type": "stream",
     "text": [
      "12\n"
     ]
    }
   ],
   "source": [
    "i=0\n",
    "sum=0\n",
    "while i<=6:\n",
    "    if i%2==0:\n",
    "        sum+=i\n",
    "    i+=1\n",
    "print(sum)\n",
    "if n==sum:\n",
    "    print(\"perfect number\")"
   ]
  },
  {
   "cell_type": "code",
   "execution_count": 6,
   "metadata": {},
   "outputs": [
    {
     "name": "stdout",
     "output_type": "stream",
     "text": [
      "313\n"
     ]
    }
   ],
   "source": [
    "list =[25,52,84,56,96]\n",
    "i=0\n",
    "sum=0\n",
    "while i<len(list):\n",
    "    sum+=list[i]\n",
    "    i+=1\n",
    "print(sum)"
   ]
  },
  {
   "cell_type": "code",
   "execution_count": 12,
   "metadata": {},
   "outputs": [
    {
     "name": "stdout",
     "output_type": "stream",
     "text": [
      "h\n",
      "l\n",
      "l\n",
      "w\n",
      "r\n",
      "l\n",
      "d\n"
     ]
    }
   ],
   "source": [
    "word=\"helloworld\"\n",
    "i=0\n",
    "while i<len(word):\n",
    "    if word[i]==\"e\" or word[i]==\"o\":\n",
    "        i+=1\n",
    "        continue\n",
    "    print(word[i])\n",
    "    i+=1"
   ]
  },
  {
   "cell_type": "code",
   "execution_count": 19,
   "metadata": {},
   "outputs": [
    {
     "name": "stdout",
     "output_type": "stream",
     "text": [
      "5 * 20 = 100\n",
      "5 * 19 = 95\n",
      "5 * 18 = 90\n",
      "5 * 17 = 85\n",
      "5 * 16 = 80\n",
      "5 * 15 = 75\n",
      "5 * 14 = 70\n",
      "5 * 13 = 65\n",
      "5 * 12 = 60\n",
      "5 * 11 = 55\n",
      "5 * 10 = 50\n",
      "5 * 9 = 45\n",
      "5 * 8 = 40\n",
      "5 * 7 = 35\n",
      "5 * 6 = 30\n",
      "5 * 5 = 25\n",
      "5 * 4 = 20\n",
      "5 * 3 = 15\n",
      "5 * 2 = 10\n",
      "5 * 1 = 5\n"
     ]
    }
   ],
   "source": [
    "i=20\n",
    "n=int(input())\n",
    "while i>=1:\n",
    "    print(n,'*',i,\"=\",n*i)\n",
    "    i-=1"
   ]
  },
  {
   "cell_type": "code",
   "execution_count": 18,
   "metadata": {},
   "outputs": [
    {
     "name": "stdout",
     "output_type": "stream",
     "text": [
      "5 * 1 = 5\n",
      "5 * 2 = 10\n",
      "5 * 3 = 15\n",
      "5 * 4 = 20\n",
      "5 * 5 = 25\n",
      "5 * 6 = 30\n",
      "5 * 7 = 35\n",
      "5 * 8 = 40\n",
      "5 * 9 = 45\n",
      "5 * 10 = 50\n",
      "5 * 11 = 55\n",
      "5 * 12 = 60\n",
      "5 * 13 = 65\n",
      "5 * 14 = 70\n",
      "5 * 15 = 75\n",
      "5 * 16 = 80\n",
      "5 * 17 = 85\n",
      "5 * 18 = 90\n",
      "5 * 19 = 95\n",
      "5 * 20 = 100\n"
     ]
    }
   ],
   "source": [
    "i=1\n",
    "n=int(input())\n",
    "while i<=20:\n",
    "    print(n,'*',i,\"=\",n*i)\n",
    "    i=i+1"
   ]
  },
  {
   "cell_type": "code",
   "execution_count": 14,
   "metadata": {},
   "outputs": [
    {
     "name": "stdout",
     "output_type": "stream",
     "text": [
      "27\n",
      "30\n",
      "33\n",
      "36\n",
      "39\n",
      "42\n",
      "45\n",
      "48\n",
      "51\n",
      "54\n",
      "57\n",
      "60\n",
      "63\n",
      "66\n"
     ]
    }
   ],
   "source": [
    "i=25\n",
    "while i<=66:\n",
    "    if i%3==0:\n",
    "        print(i)\n",
    "    i=i+1\n"
   ]
  },
  {
   "cell_type": "code",
   "execution_count": 17,
   "metadata": {},
   "outputs": [
    {
     "name": "stdout",
     "output_type": "stream",
     "text": [
      "15\n",
      "30\n",
      "45\n",
      "60\n"
     ]
    }
   ],
   "source": [
    "i=15\n",
    "while i<=66:\n",
    "    if i%3==0 and i%5==0:\n",
    "        print(i)\n",
    "    i=i+1\n",
    "        "
   ]
  },
  {
   "cell_type": "code",
   "execution_count": 20,
   "metadata": {},
   "outputs": [
    {
     "name": "stdout",
     "output_type": "stream",
     "text": [
      "2\n",
      "4\n",
      "6\n",
      "8\n",
      "10\n"
     ]
    }
   ],
   "source": [
    "i=1\n",
    "n=int(input())\n",
    "while i<=n:\n",
    "    if i%2==0:\n",
    "        print(i)\n",
    "    i=i+1"
   ]
  },
  {
   "cell_type": "code",
   "execution_count": 21,
   "metadata": {},
   "outputs": [
    {
     "name": "stdout",
     "output_type": "stream",
     "text": [
      "10\n",
      "8\n",
      "6\n",
      "4\n",
      "2\n"
     ]
    }
   ],
   "source": [
    "i=1\n",
    "n=int(input())\n",
    "while i<=n:\n",
    "    if n%2==0:\n",
    "        print(n)\n",
    "    n=n-1"
   ]
  },
  {
   "cell_type": "code",
   "execution_count": 27,
   "metadata": {},
   "outputs": [
    {
     "name": "stdout",
     "output_type": "stream",
     "text": [
      "1\n",
      "3\n",
      "5\n",
      "7\n",
      "9\n"
     ]
    }
   ],
   "source": [
    "n=int(input())\n",
    "i=1\n",
    "while i<=n:\n",
    "    if i%2==1:\n",
    "        print(i)\n",
    "    i+=1"
   ]
  },
  {
   "cell_type": "code",
   "execution_count": 29,
   "metadata": {},
   "outputs": [],
   "source": [
    "n=int(input())\n",
    "i=1\n",
    "while i<=n:\n",
    "    if n%2==1:\n",
    "        print(n)\n",
    "    n-=1"
   ]
  },
  {
   "cell_type": "code",
   "execution_count": 3,
   "metadata": {},
   "outputs": [
    {
     "name": "stdout",
     "output_type": "stream",
     "text": [
      "7\n"
     ]
    }
   ],
   "source": [
    "i=1\n",
    "count = 0\n",
    "while i<=14:\n",
    "    if i%2==1:\n",
    "       count = count+1\n",
    "    \n",
    "    i+=1\n",
    "print(count)\n"
   ]
  },
  {
   "cell_type": "code",
   "execution_count": 2,
   "metadata": {},
   "outputs": [
    {
     "name": "stdout",
     "output_type": "stream",
     "text": [
      " i like you\n"
     ]
    }
   ],
   "source": [
    "n= int(input())\n",
    "while 1<=n<=30:\n",
    "    if n%3==0 and n%5==0:\n",
    "        print(\" i like you\")\n",
    "        break\n",
    "    elif n%3==0:\n",
    "        print(\"i love you\")\n",
    "        break\n",
    "    elif n%5==0:\n",
    "        print(\"i hate you\")\n",
    "        break"
   ]
  },
  {
   "cell_type": "code",
   "execution_count": 6,
   "metadata": {},
   "outputs": [
    {
     "name": "stdout",
     "output_type": "stream",
     "text": [
      "10.0\n"
     ]
    }
   ],
   "source": [
    "n1=x=int(input())\n",
    "n2=y=int(input())\n",
    "while x!=y:\n",
    "    if x>y:\n",
    "        x=x-y\n",
    "    else:\n",
    "        y=y-x\n",
    "lcm=(n1*n2)/x\n",
    "print(lcm)\n"
   ]
  },
  {
   "cell_type": "code",
   "execution_count": 5,
   "metadata": {},
   "outputs": [
    {
     "name": "stdout",
     "output_type": "stream",
     "text": [
      "5\n"
     ]
    }
   ],
   "source": [
    "x=int(input())\n",
    "y=int(input())\n",
    "while x!=y:\n",
    "    if x>y:\n",
    "        x=x-y\n",
    "    else:\n",
    "        y=y-x\n",
    "\n",
    "print(x)\n"
   ]
  },
  {
   "cell_type": "code",
   "execution_count": 5,
   "metadata": {},
   "outputs": [],
   "source": [
    "n=int(input())\n",
    "while n>0:\n",
    "    r=n%10\n",
    "    n=n//10\n",
    "    if r==3:\n",
    "        print(\"hello\")\n",
    "        break\n",
    "    elif r==2:\n",
    "        print(\"hii\")\n",
    "        break\n",
    "    elif r==1:\n",
    "        print(\"good morning\")\n",
    "        break"
   ]
  },
  {
   "cell_type": "code",
   "execution_count": 6,
   "metadata": {},
   "outputs": [
    {
     "name": "stdout",
     "output_type": "stream",
     "text": [
      "hello world\n"
     ]
    }
   ],
   "source": [
    "n=10\n",
    "match(n):\n",
    "    case 10:\n",
    "        print(\"hello world\")"
   ]
  },
  {
   "cell_type": "code",
   "execution_count": 14,
   "metadata": {},
   "outputs": [
    {
     "name": "stdout",
     "output_type": "stream",
     "text": [
      "252\n",
      "252\n",
      "palindrom\n"
     ]
    }
   ],
   "source": [
    "n=int(input())\n",
    "x=n\n",
    "rev=0\n",
    "while n>0:\n",
    "    r=n%10\n",
    "    rev=rev*10+r\n",
    "    n=n//10\n",
    "print(x)\n",
    "print(rev)\n",
    "if x==rev:\n",
    "    print(\"palindrom\")\n",
    "else:\n",
    "    print(\"not palindrom\")"
   ]
  },
  {
   "cell_type": "code",
   "execution_count": 17,
   "metadata": {},
   "outputs": [
    {
     "name": "stdout",
     "output_type": "stream",
     "text": [
      "5\n"
     ]
    }
   ],
   "source": [
    "n1=int(input())\n",
    "n2=int(input())\n",
    "gcd=1\n",
    "i=1\n",
    "while i<=n1 and i<=n2:\n",
    "    if n1%i==0 and n2%i==0:\n",
    "        gcd=i\n",
    "    i=i+1\n",
    "print(gcd)"
   ]
  },
  {
   "cell_type": "code",
   "execution_count": 28,
   "metadata": {},
   "outputs": [
    {
     "name": "stdout",
     "output_type": "stream",
     "text": [
      "5\n"
     ]
    }
   ],
   "source": [
    "n1=int(input())\n",
    "n2=int(input())\n",
    "i=1\n",
    "v=True\n",
    "while v:\n",
    "    if i%n1==0 and i%n2==0:\n",
    "        print(i)\n",
    "        v=False\n",
    "    i=i+1\n"
   ]
  },
  {
   "cell_type": "code",
   "execution_count": 1,
   "metadata": {},
   "outputs": [
    {
     "name": "stdout",
     "output_type": "stream",
     "text": [
      "3\n",
      "2\n",
      "1\n"
     ]
    }
   ],
   "source": [
    "n=123\n",
    "count=0\n",
    "while n>0:\n",
    "    digit=n%10\n",
    "    count=count+1\n",
    "    if count==1 or count==c:\n",
    "        print(digit)\n",
    "    n=n//10"
   ]
  },
  {
   "cell_type": "code",
   "execution_count": 3,
   "metadata": {},
   "outputs": [
    {
     "name": "stdout",
     "output_type": "stream",
     "text": [
      "6\n"
     ]
    }
   ],
   "source": [
    "n=int(input())\n",
    "count=0\n",
    "while n>0:\n",
    "    count=count+1\n",
    "    n=n//10\n",
    "print(count)"
   ]
  },
  {
   "cell_type": "code",
   "execution_count": 8,
   "metadata": {},
   "outputs": [
    {
     "name": "stdout",
     "output_type": "stream",
     "text": [
      "10\n",
      "even\n"
     ]
    }
   ],
   "source": [
    "n=int(input())\n",
    "x=n\n",
    "y=0\n",
    "count=0\n",
    "while n>0:\n",
    "    count=count+1\n",
    "    n=n//10\n",
    "v=count//2\n",
    "while x>0:\n",
    "    digit=x%10\n",
    "    if y==v:\n",
    "        print(digit)\n",
    "    y=y+1\n",
    "    x=x//10\n",
    "    \n"
   ]
  },
  {
   "cell_type": "code",
   "execution_count": 40,
   "metadata": {},
   "outputs": [
    {
     "name": "stdout",
     "output_type": "stream",
     "text": [
      "81\n",
      "it is a tech number\n"
     ]
    }
   ],
   "source": [
    "n=int(input())\n",
    "x=n\n",
    "y=n\n",
    "print(n)\n",
    "count=0\n",
    "while n>0:\n",
    "    count=count+1\n",
    "    n=n//10\n",
    "v=count//2\n",
    "while x>0:\n",
    "    digit=x%(10**v)\n",
    "    x=x//(10**v)\n",
    "    break\n",
    "tech=((digit+x)**2)\n",
    "if y==tech:\n",
    "    print(\"it is a tech number\")\n",
    "else:\n",
    "    print(\"not a tech number\")"
   ]
  },
  {
   "cell_type": "code",
   "execution_count": 12,
   "metadata": {},
   "outputs": [
    {
     "name": "stdout",
     "output_type": "stream",
     "text": [
      "2\n"
     ]
    }
   ],
   "source": [
    "print(4//2)"
   ]
  },
  {
   "cell_type": "code",
   "execution_count": 16,
   "metadata": {},
   "outputs": [
    {
     "name": "stdout",
     "output_type": "stream",
     "text": [
      "36\n",
      "25\n",
      "16\n",
      "9\n",
      "4\n",
      "1\n"
     ]
    }
   ],
   "source": [
    "n=int(input())\n",
    "while n>0:\n",
    "    digit=n%10\n",
    "    print(digit**2)\n",
    "    n=n//10"
   ]
  },
  {
   "cell_type": "code",
   "execution_count": 26,
   "metadata": {},
   "outputs": [
    {
     "name": "stdout",
     "output_type": "stream",
     "text": [
      "it is spy number\n"
     ]
    }
   ],
   "source": [
    "n=int(input())\n",
    "sum=0\n",
    "pro=1\n",
    "while n>0:\n",
    "    digit=n%10\n",
    "    sum=sum+digit\n",
    "    pro=pro*digit\n",
    "    n=n//10\n",
    "if sum==pro:\n",
    "    print(\"it is spy number\")\n",
    "else:\n",
    "    print(\"it is not a spy number\")"
   ]
  },
  {
   "cell_type": "code",
   "execution_count": 28,
   "metadata": {},
   "outputs": [
    {
     "name": "stdout",
     "output_type": "stream",
     "text": [
      "251\n",
      "152\n",
      "not palindrom\n"
     ]
    }
   ],
   "source": [
    "n=int(input())\n",
    "x=n\n",
    "rev=0\n",
    "while n>0:\n",
    "    r=n%10\n",
    "    rev=rev*10+r\n",
    "    n=n//10\n",
    "print(x)\n",
    "print(rev)\n",
    "if x==rev:\n",
    "    print(\"palindrom\")\n",
    "else:\n",
    "    print(\"not palindrom\")"
   ]
  },
  {
   "cell_type": "code",
   "execution_count": 4,
   "metadata": {},
   "outputs": [
    {
     "name": "stdout",
     "output_type": "stream",
     "text": [
      "11\n",
      "11\n",
      "palindrom\n"
     ]
    }
   ],
   "source": [
    "n=int(input())\n",
    "rev=0\n",
    "sum=0\n",
    "\n",
    "while n>0:\n",
    "    digit=n%10\n",
    "    sum=sum+digit\n",
    "    n=n//10\n",
    "print(sum)\n",
    "x=sum\n",
    "print(x)\n",
    "while x>0:\n",
    "    r=x%10\n",
    "    rev=rev*10+r\n",
    "    x=x//10\n",
    "if sum==rev:\n",
    "    print(\"palindrom\")\n",
    "else:\n",
    "    print(\"not palindrom\")"
   ]
  },
  {
   "cell_type": "code",
   "execution_count": 2,
   "metadata": {},
   "outputs": [],
   "source": [
    "ch=input()\n",
    "v=ord(ch)\n",
    "x=v\n",
    "rev=0\n",
    "while v>0:\n",
    "    r=v%10\n",
    "    rev=rev*10+6\n",
    "    v=v//10\n",
    "if rev==x:\n",
    "    print(\"palindrom\")"
   ]
  },
  {
   "cell_type": "code",
   "execution_count": 4,
   "metadata": {},
   "outputs": [
    {
     "name": "stdout",
     "output_type": "stream",
     "text": [
      "720\n",
      "2\n",
      "120\n"
     ]
    }
   ],
   "source": [
    "n=int(input())\n",
    "while n>0:\n",
    "    i=1\n",
    "    f=1\n",
    "    d=n%10\n",
    "    while i<=d:\n",
    "        f=f*i\n",
    "        i=i+1\n",
    "    print(f)\n",
    "    n=n//10\n",
    "\n",
    "          "
   ]
  },
  {
   "cell_type": "code",
   "execution_count": null,
   "metadata": {},
   "outputs": [],
   "source": [
    "n=int(input())\n",
    "sum=0\n",
    "x=n\n",
    "while n>0:\n",
    "    i=1\n",
    "    f=1\n",
    "    d=n%10\n",
    "    while i<=d:\n",
    "        f=f*i\n",
    "        i=i+1\n",
    "    sum=sum+f\n",
    "    n=n//10\n",
    "print(sum)\n",
    "if sum==x:\n",
    "    print(\"strong number\")\n",
    "else:\n",
    "    print(\"not a strong number\")\n",
    "\n"
   ]
  },
  {
   "cell_type": "code",
   "execution_count": 9,
   "metadata": {},
   "outputs": [
    {
     "name": "stdout",
     "output_type": "stream",
     "text": [
      "27\n",
      "125\n",
      "1\n"
     ]
    }
   ],
   "source": [
    "n=int(input())\n",
    "x=n\n",
    "count=0\n",
    "while n>0:\n",
    "    count=count+1\n",
    "    n=n//10\n",
    "while x>0:\n",
    "    digit=x%10\n",
    "    print(digit**count)\n",
    "    x=x//10"
   ]
  },
  {
   "cell_type": "code",
   "execution_count": 35,
   "metadata": {},
   "outputs": [
    {
     "name": "stdout",
     "output_type": "stream",
     "text": [
      "25 625 it is a automorphic number\n"
     ]
    }
   ],
   "source": [
    "#automorphic number\n",
    "n=int(input())\n",
    "x=n\n",
    "square=n*n   \n",
    "count=0\n",
    "while n>0:\n",
    "    count=count+1\n",
    "    n=n//10\n",
    "s=square%(10**count) \n",
    "if x==s:\n",
    "    print(x,square,\"it is a automorphic number\" )\n",
    "else:\n",
    "    print(x,square,\"it is not a automorphic  number\" )"
   ]
  },
  {
   "cell_type": "code",
   "execution_count": 40,
   "metadata": {},
   "outputs": [
    {
     "name": "stdout",
     "output_type": "stream",
     "text": [
      "145 145 it is a peterson number\n"
     ]
    }
   ],
   "source": [
    "#peterson number \n",
    "n=int(input())\n",
    "sum=0\n",
    "x=n\n",
    "while n>0:\n",
    "    i=1\n",
    "    f=1\n",
    "    d=n%10\n",
    "    while i<=d:\n",
    "        f=f*i\n",
    "        i=i+1\n",
    "    sum=sum+f\n",
    "    n=n//10\n",
    "if sum==x:\n",
    "    print(sum,x,\"it is a peterson number\")\n",
    "else:\n",
    "    print(sum,x,\"not a peterson number\")\n",
    "\n"
   ]
  },
  {
   "cell_type": "code",
   "execution_count": 5,
   "metadata": {},
   "outputs": [
    {
     "name": "stdout",
     "output_type": "stream",
     "text": [
      "99 is the sunny number\n",
      "100\n"
     ]
    }
   ],
   "source": [
    "#sunny number\n",
    "num = int(input(\"Enter a Number: \"))\n",
    "num1=num+1\n",
    "i=1\n",
    "while num1>=i:\n",
    "    if i*i==num1:\n",
    "        print(num,\"is the sunny number\")\n",
    "        break\n",
    "    i=i+1\n",
    "print(num1)\n"
   ]
  },
  {
   "cell_type": "code",
   "execution_count": 10,
   "metadata": {},
   "outputs": [
    {
     "name": "stdout",
     "output_type": "stream",
     "text": [
      "153 amstrong number\n"
     ]
    }
   ],
   "source": [
    "#amstrong number\n",
    "n=int(input())\n",
    "x=n\n",
    "y=n\n",
    "sum=0\n",
    "count=0\n",
    "while n>0:\n",
    "    count=count+1\n",
    "    n=n//10\n",
    "while x>0:\n",
    "    digit=x%10\n",
    "    power=digit**count\n",
    "    sum=sum+power\n",
    "    x=x//10\n",
    "if sum==y:\n",
    "    print(y,\"amstrong number\")\n",
    "else:\n",
    "    print(y,\"not amstrong\")"
   ]
  },
  {
   "cell_type": "code",
   "execution_count": 18,
   "metadata": {},
   "outputs": [
    {
     "name": "stdout",
     "output_type": "stream",
     "text": [
      "81\n",
      "1\n",
      "8\n",
      "81\n",
      "it is a tech number\n"
     ]
    }
   ],
   "source": [
    "#tech number\n",
    "n=int(input())\n",
    "x=n\n",
    "y=n\n",
    "print(n)\n",
    "count=0\n",
    "while n>0:\n",
    "    count=count+1\n",
    "    n=n//10\n",
    "v=count//2\n",
    "while x>0:\n",
    "    digit=x%(10**v)\n",
    "    print(digit)\n",
    "    x=x//(10**v)\n",
    "    print(x)\n",
    "    break\n",
    "tech=((digit+x)**2)\n",
    "print(tech)\n",
    "if y==tech:\n",
    "    print(\"it is a tech number\")\n",
    "else:\n",
    "    print(\"not a tech number\")"
   ]
  },
  {
   "cell_type": "code",
   "execution_count": 35,
   "metadata": {},
   "outputs": [
    {
     "name": "stdout",
     "output_type": "stream",
     "text": [
      "3\n",
      "192384576\n"
     ]
    }
   ],
   "source": [
    "#facinating number\n",
    "n=int(input())\n",
    "x=n\n",
    "count=0\n",
    "while n>0:\n",
    "    count=count+1\n",
    "    n=n//10\n",
    "y=count\n",
    "print(count)\n",
    "while count>=3:\n",
    "    z=(x*2)\n",
    "    v=(x*3)\n",
    "    w= str(x)+str(z)+str(v)\n",
    "    print(w)\n",
    "    break\n",
    "\n",
    "\n"
   ]
  },
  {
   "cell_type": "code",
   "execution_count": 26,
   "metadata": {},
   "outputs": [
    {
     "name": "stdout",
     "output_type": "stream",
     "text": [
      "3\n",
      "1152\n"
     ]
    }
   ],
   "source": [
    "n=int(input())\n",
    "x=n\n",
    "count=0\n",
    "while n>0:\n",
    "    count=count+1\n",
    "    n=n//10\n",
    "y=count\n",
    "print(count)\n",
    "while count>=3:\n",
    "    z=(x*2)\n",
    "    v=(x*3)\n",
    "    w= x+v+z\n",
    "    print(w) \n",
    "    break\n",
    "\n"
   ]
  },
  {
   "cell_type": "code",
   "execution_count": 3,
   "metadata": {},
   "outputs": [
    {
     "name": "stdout",
     "output_type": "stream",
     "text": [
      "Welcome to State bank of India\n",
      "1-Withdraw\n",
      "2-Balance Enquiry\n",
      "3-Fast Cash\n",
      "Please take your amount: 2500\n"
     ]
    }
   ],
   "source": [
    "#ATM Program\n",
    "print(\"Welcome to State bank of India\")\n",
    "p=int(input(\"Enter your 4 digit pin number: \"))\n",
    "m = 25000\n",
    "if(p == 1234):\n",
    "    print(\"1-Withdraw\")\n",
    "    print(\"2-Balance Enquiry\")\n",
    "    print(\"3-Fast Cash\")\n",
    "    c = int(input(\"Please choose transactions: \"))\n",
    "    if (c == 1):\n",
    "        w=int(input(\"Enter withdraw amount: \"))\n",
    "        if (w < m and w%100 == 0):\n",
    "            print(\"Please take your amount:\", w)\n",
    "        else:\n",
    "            print(\"Invalid cash\")\n",
    "\n",
    "    elif(c==2):\n",
    "        print(\"Your available amount : \",m)\n",
    "\n",
    "    elif (c == 3):\n",
    "        print(\"1->5,000\")\n",
    "        print(\"2->10,000\")\n",
    "        print(\"3->15,000\")\n",
    "        print(\"4->20,000\")\n",
    "        f = int(input(\"Enter fast cash option: \"))\n",
    "        if (f == 1 and 5000 < m):\n",
    "            print(\"please take cash 5000\")\n",
    "        elif (f == 2 and 10000 < m):\n",
    "            print(\"please take cash 10000\")\n",
    "        elif (f == 3 and 15000 < m):\n",
    "            print(\"please take cash 15000\")\n",
    "        elif (f == 4 and 20000 < m):\n",
    "            print(\"please take cash 20000\")\n",
    "        else:\n",
    "            print(\"Invalid fast cash option\")\n",
    "    else:\n",
    "        print(\"Wrong choice\")\n",
    "else:\n",
    "    print(\"Wrong pin number\")\n"
   ]
  },
  {
   "cell_type": "code",
   "execution_count": 21,
   "metadata": {},
   "outputs": [
    {
     "name": "stdout",
     "output_type": "stream",
     "text": [
      "2020\n",
      "<class 'str'>\n"
     ]
    }
   ],
   "source": [
    "#duck number\n",
    "n=int(input())\n",
    "x=str(n)\n",
    "count=0\n",
    "i=0\n",
    "while n>0:\n",
    "    count=count+1\n",
    "    n=n//10\n",
    "while i<count and x[i]=='0':\n",
    "    print(\"duck number\")\n",
    "    i=i+1\n",
    "while i<count:\n",
    "    if x[i]=='0':\n",
    "        y=True\n",
    "    i=i+1\n",
    "print(x)\n",
    "print(type(x))\n"
   ]
  },
  {
   "cell_type": "markdown",
   "metadata": {},
   "source": []
  },
  {
   "cell_type": "code",
   "execution_count": 42,
   "metadata": {},
   "outputs": [
    {
     "name": "stdout",
     "output_type": "stream",
     "text": [
      "2000005\n",
      "it is a duck number\n"
     ]
    }
   ],
   "source": [
    "#duck number\n",
    "n=int(input())\n",
    "x=n\n",
    "count=0\n",
    "print(n)\n",
    "while n>0:\n",
    "    count=count+1\n",
    "    n=n//10\n",
    "y=count\n",
    "while x>0:\n",
    "    digit=x%10\n",
    "    if y==1:\n",
    "        if x==0:\n",
    "            print(\"it is not duck number\")\n",
    "        else:\n",
    "            print(\"it is a duck number\")\n",
    "    x=x//10\n",
    "    y=y-1\n"
   ]
  },
  {
   "cell_type": "code",
   "execution_count": 12,
   "metadata": {},
   "outputs": [
    {
     "name": "stdout",
     "output_type": "stream",
     "text": [
      "it is happy number\n",
      "1\n"
     ]
    }
   ],
   "source": [
    "n= int(input())\n",
    "sum=0\n",
    "s=n**2\n",
    "s1=0\n",
    "while n>0:\n",
    "    digit=n%10\n",
    "    y=digit**2\n",
    "    s1=s1+y\n",
    "    while s>0:\n",
    "        digit=s%10\n",
    "        v=digit**2\n",
    "        sum=sum+v\n",
    "        n=sum\n",
    "        if n==1:\n",
    "            print(\"it is happy number\")\n",
    "            break\n",
    "        elif n==4:\n",
    "            print(\"it is not happy number\")\n",
    "            break\n",
    "        s=s//10\n",
    "    n=n//10\n",
    "print(sum)"
   ]
  },
  {
   "cell_type": "code",
   "execution_count": 31,
   "metadata": {},
   "outputs": [
    {
     "name": "stdout",
     "output_type": "stream",
     "text": [
      "8\n"
     ]
    }
   ],
   "source": [
    "n=int(input())\n",
    "sum=0\n",
    "while n>0:\n",
    "    digit=n%10\n",
    "    sum=sum+digit\n",
    "    n=n//10\n",
    "    if n==0:\n",
    "        if sum<10:\n",
    "            print(sum)\n",
    "        else:\n",
    "            n=sum\n",
    "            sum=0"
   ]
  },
  {
   "cell_type": "code",
   "execution_count": 34,
   "metadata": {},
   "outputs": [
    {
     "name": "stdout",
     "output_type": "stream",
     "text": [
      "not neon number\n"
     ]
    }
   ],
   "source": [
    "#neon number\n",
    "n=int(input())\n",
    "s=n**2\n",
    "sum=0\n",
    "while s>0:\n",
    "    digit=s%10\n",
    "    sum=sum+digit\n",
    "    s=s//10\n",
    "if n==sum:\n",
    "    print(\"neon number\")\n",
    "else:\n",
    "    print(\"not neon number\")"
   ]
  },
  {
   "cell_type": "code",
   "execution_count": 34,
   "metadata": {},
   "outputs": [
    {
     "name": "stdout",
     "output_type": "stream",
     "text": [
      "2 -> 1\n",
      "4 -> 2\n",
      "4 -> 2\n",
      "6 -> 2\n",
      "6 -> 2\n",
      "5 -> 1\n",
      "1 -> 1\n"
     ]
    }
   ],
   "source": [
    "#count the repetations of the digit\n",
    "n=int(input())\n",
    "x=n\n",
    "y=n\n",
    "count=0\n",
    "while n>0:\n",
    "    digit=n%10\n",
    "    while x>0:\n",
    "        digit1=x%10\n",
    "        if digit==digit1:\n",
    "            count=count+1\n",
    "        x=x//10\n",
    "    print(digit,\"->\",count)\n",
    "    if x==0:\n",
    "        x=y\n",
    "        count=0\n",
    "    n=n//10"
   ]
  }
 ],
 "metadata": {
  "kernelspec": {
   "display_name": "base",
   "language": "python",
   "name": "python3"
  },
  "language_info": {
   "codemirror_mode": {
    "name": "ipython",
    "version": 3
   },
   "file_extension": ".py",
   "mimetype": "text/x-python",
   "name": "python",
   "nbconvert_exporter": "python",
   "pygments_lexer": "ipython3",
   "version": "3.12.2"
  }
 },
 "nbformat": 4,
 "nbformat_minor": 2
}
