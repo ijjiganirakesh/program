{
 "cells": [
  {
   "cell_type": "code",
   "execution_count": 2,
   "metadata": {},
   "outputs": [
    {
     "name": "stdout",
     "output_type": "stream",
     "text": [
      "-10\n",
      "10\n"
     ]
    }
   ],
   "source": [
    "#positional arguments\n",
    "def sub(a,b):\n",
    "    sub=a-b\n",
    "    print(sub)\n",
    "sub(10,20)\n",
    "sub(20,10)"
   ]
  },
  {
   "cell_type": "code",
   "execution_count": 3,
   "metadata": {},
   "outputs": [
    {
     "name": "stdout",
     "output_type": "stream",
     "text": [
      "0.6666666666666666\n",
      "1.5\n"
     ]
    }
   ],
   "source": [
    "def div(num1,num2):\n",
    "    div=num1/num2\n",
    "    print(div)\n",
    "div(20,30)\n",
    "div(30,20)"
   ]
  },
  {
   "cell_type": "code",
   "execution_count": 9,
   "metadata": {},
   "outputs": [
    {
     "name": "stdout",
     "output_type": "stream",
     "text": [
      "-40\n"
     ]
    }
   ],
   "source": [
    "def power(n1,n2,n3):\n",
    "    sum=n1+n2\n",
    "    sub=n3-sum\n",
    "    print(sub)\n",
    "power(50,20,30)\n"
   ]
  },
  {
   "cell_type": "code",
   "execution_count": 7,
   "metadata": {},
   "outputs": [
    {
     "name": "stdout",
     "output_type": "stream",
     "text": [
      "rakesh ramu male\n",
      "jack ramu male\n",
      "jan ramu female\n"
     ]
    }
   ],
   "source": [
    "def names(name1=\"rakesh\",name2=\"ramu\",gender=\"male\"):\n",
    "    print(name1,name2,gender)\n",
    "names()\n",
    "names(\"jack\")\n",
    "names(\"jan\",gender=\"female\")"
   ]
  },
  {
   "cell_type": "code",
   "execution_count": 6,
   "metadata": {},
   "outputs": [
    {
     "name": "stdout",
     "output_type": "stream",
     "text": [
      "15.0\n",
      "20.0\n",
      "16.666666666666668\n"
     ]
    }
   ],
   "source": [
    "def add(n1=10,n2=20,c=2):\n",
    "    sum=n1+n2\n",
    "    div=sum/c\n",
    "    print(div)\n",
    "add()\n",
    "add(20)\n",
    "add(30,c=3)"
   ]
  },
  {
   "cell_type": "code",
   "execution_count": 18,
   "metadata": {},
   "outputs": [
    {
     "name": "stdout",
     "output_type": "stream",
     "text": [
      "hel\n"
     ]
    }
   ],
   "source": [
    "def f1(*a,num1=2,num2=3):\n",
    "    sum=num1+num2\n",
    "    if sum in a:\n",
    "        print(\"hello\")\n",
    "    else:\n",
    "        print(\"hel\")\n",
    "f1(10,2,8,6)"
   ]
  },
  {
   "cell_type": "code",
   "execution_count": 1,
   "metadata": {},
   "outputs": [
    {
     "name": "stdout",
     "output_type": "stream",
     "text": [
      "30\n"
     ]
    }
   ],
   "source": [
    "def sum():\n",
    "    a=10\n",
    "    b=20\n",
    "    sum=a+b\n",
    "    print(sum)\n",
    "sum()"
   ]
  },
  {
   "cell_type": "code",
   "execution_count": 2,
   "metadata": {},
   "outputs": [
    {
     "name": "stdout",
     "output_type": "stream",
     "text": [
      "30\n"
     ]
    }
   ],
   "source": [
    "def sum(n1,n2):\n",
    "    sum=n1+n2\n",
    "    print(sum)\n",
    "a,b=10,20\n",
    "sum(a,b)"
   ]
  },
  {
   "cell_type": "code",
   "execution_count": 4,
   "metadata": {},
   "outputs": [
    {
     "name": "stdout",
     "output_type": "stream",
     "text": [
      "None\n"
     ]
    }
   ],
   "source": [
    "def sum(n1,n2):\n",
    "    sum=n1+n2\n",
    "    return \n",
    "a,b=10,20\n",
    "print(sum(a,b))"
   ]
  },
  {
   "cell_type": "code",
   "execution_count": 5,
   "metadata": {},
   "outputs": [
    {
     "data": {
      "text/plain": [
       "[2, 3, 5, 7, 11, 13, 17, 19, 23, 29]"
      ]
     },
     "execution_count": 5,
     "metadata": {},
     "output_type": "execute_result"
    }
   ],
   "source": [
    "def is_prime(n1):\n",
    "    c=0\n",
    "    i=1\n",
    "    while n1>=i:\n",
    "        if n1%i==0:\n",
    "            c+=1\n",
    "        i+=1\n",
    "    return c==2\n",
    "def first(n):\n",
    "    l=[]\n",
    "    i=1\n",
    "    while n>0:\n",
    "        if is_prime(i):\n",
    "            n-=1\n",
    "            l=l+[i]\n",
    "        i=i+1\n",
    "    return l\n",
    "first(10)"
   ]
  },
  {
   "cell_type": "code",
   "execution_count": 12,
   "metadata": {},
   "outputs": [
    {
     "data": {
      "text/plain": [
       "[1, 2, 3, 4, 5, 6, 7, 8, 9, 153]"
      ]
     },
     "execution_count": 12,
     "metadata": {},
     "output_type": "execute_result"
    }
   ],
   "source": [
    "def is_count(n1):\n",
    "    c=0\n",
    "    while n1>0:\n",
    "        c=c+1\n",
    "        n1=n1//10\n",
    "    return c\n",
    "def is_sum(n2):\n",
    "    sum=0\n",
    "    n1=n2\n",
    "    while n1>0:\n",
    "        dig=n1%10\n",
    "        sum=sum+dig**is_count(n2)\n",
    "        n1=n1//10\n",
    "    return sum\n",
    "def is_amstrong(n):\n",
    "    if is_sum(n)==n:\n",
    "        return True\n",
    "def first(num):\n",
    "    l=[]\n",
    "    i=1\n",
    "    while num>0:\n",
    "        if is_amstrong(i):\n",
    "            l=l+[i]\n",
    "            num-=1\n",
    "        i=i+1\n",
    "    return l\n",
    "first(10)\n"
   ]
  },
  {
   "cell_type": "code",
   "execution_count": 14,
   "metadata": {},
   "outputs": [
    {
     "data": {
      "text/plain": [
       "[1, 2]"
      ]
     },
     "execution_count": 14,
     "metadata": {},
     "output_type": "execute_result"
    }
   ],
   "source": [
    "def is_fact(n):\n",
    "    i=1\n",
    "    fact=1\n",
    "    while n>=i:\n",
    "        fact=fact*i\n",
    "        i=i+1\n",
    "    return fact\n",
    "def is_strong(n1):\n",
    "    n2=n1\n",
    "    sum=0\n",
    "    while n2>0:\n",
    "        dig=n2%10\n",
    "        sum=sum+is_fact(dig)\n",
    "        n2//=10\n",
    "    return n1==sum\n",
    "def second(num):\n",
    "    l=[]\n",
    "    i=1\n",
    "    while num>0:\n",
    "        if is_strong(i):\n",
    "            l=l+[i]\n",
    "            num-=1\n",
    "        i=i+1\n",
    "    return l\n",
    "second(2)\n"
   ]
  }
 ],
 "metadata": {
  "kernelspec": {
   "display_name": "Python 3",
   "language": "python",
   "name": "python3"
  },
  "language_info": {
   "codemirror_mode": {
    "name": "ipython",
    "version": 3
   },
   "file_extension": ".py",
   "mimetype": "text/x-python",
   "name": "python",
   "nbconvert_exporter": "python",
   "pygments_lexer": "ipython3",
   "version": "3.12.2"
  }
 },
 "nbformat": 4,
 "nbformat_minor": 2
}
